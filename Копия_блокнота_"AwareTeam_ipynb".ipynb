{
  "nbformat": 4,
  "nbformat_minor": 0,
  "metadata": {
    "colab": {
      "name": "Копия блокнота \"AwareTeam.ipynb\"",
      "provenance": [],
      "collapsed_sections": [],
      "include_colab_link": true
    },
    "kernelspec": {
      "name": "python3",
      "display_name": "Python 3"
    },
    "language_info": {
      "name": "python"
    }
  },
  "cells": [
    {
      "cell_type": "markdown",
      "metadata": {
        "id": "view-in-github",
        "colab_type": "text"
      },
      "source": [
        "<a href=\"https://colab.research.google.com/github/AwareTeam-LOD/chore-finals/blob/main/%D0%9A%D0%BE%D0%BF%D0%B8%D1%8F_%D0%B1%D0%BB%D0%BE%D0%BA%D0%BD%D0%BE%D1%82%D0%B0_%22AwareTeam_ipynb%22.ipynb\" target=\"_parent\"><img src=\"https://colab.research.google.com/assets/colab-badge.svg\" alt=\"Open In Colab\"/></a>"
      ]
    },
    {
      "cell_type": "markdown",
      "source": [
        "Давайте скачаем вначале предоставленные нам данные (датапак), с которым мы и будем работать в дальнейшем. \n",
        "\n",
        "> Я загрузил его на свой сервер, чтобы получить прямую ссылку на файл (иначе не получится скачать данные с wget).\n",
        "\n"
      ],
      "metadata": {
        "id": "h0PBDutyR5ed"
      }
    },
    {
      "cell_type": "code",
      "execution_count": 1,
      "metadata": {
        "colab": {
          "base_uri": "https://localhost:8080/"
        },
        "id": "KEnUfulqRmyD",
        "outputId": "33ed6c3f-baef-4a76-ac9a-6f1b8a1d71bd"
      },
      "outputs": [
        {
          "output_type": "stream",
          "name": "stdout",
          "text": [
            "--2022-01-29 14:30:35--  https://test.deqstudio.com/datapack.zip\n",
            "Resolving test.deqstudio.com (test.deqstudio.com)... 78.46.109.73\n",
            "Connecting to test.deqstudio.com (test.deqstudio.com)|78.46.109.73|:443... connected.\n",
            "HTTP request sent, awaiting response... 200 OK\n",
            "Length: 2158896 (2.1M) [application/zip]\n",
            "Saving to: ‘datas/datapack.zip’\n",
            "\n",
            "datapack.zip        100%[===================>]   2.06M  2.07MB/s    in 1.0s    \n",
            "\n",
            "2022-01-29 14:30:37 (2.07 MB/s) - ‘datas/datapack.zip’ saved [2158896/2158896]\n",
            "\n",
            "Archive:  datas/datapack.zip\n",
            " extracting: datas/01_all_users.csv  \n",
            " extracting: datas/02_events_log.csv  \n",
            " extracting: datas/03_lk_events_log.csv  \n",
            " extracting: datas/04_is_blocked.csv  \n",
            " extracting: datas/test.csv          \n"
          ]
        }
      ],
      "source": [
        "!wget https://test.deqstudio.com/datapack.zip -P datas/\n",
        "!unzip datas/datapack.zip -d datas/"
      ]
    },
    {
      "cell_type": "markdown",
      "source": [
        "Давайте установим зависимости и нужные штучки, а так же загрузим датасеты"
      ],
      "metadata": {
        "id": "5Jtu28n2TkWu"
      }
    },
    {
      "cell_type": "code",
      "source": [
        "!pip install pandas numpy keras tensorflow\n",
        "\n",
        "#Стандартные библиотеки для аналитики данных:\n",
        "import numpy as np\n",
        "import matplotlib.pyplot as plt\n",
        "import pandas as pd\n",
        "from scipy.stats import norm, skew\n",
        "from scipy import stats\n",
        "import seaborn as sns\n",
        "import statsmodels.api as sm\n",
        "\n",
        "# sklearn модули для предпроцессинга данных:\n",
        "from sklearn.impute import SimpleImputer\n",
        "from sklearn.preprocessing import LabelEncoder, OneHotEncoder\n",
        "from sklearn.compose import ColumnTransformer\n",
        "from sklearn.preprocessing import OneHotEncoder\n",
        "from sklearn.model_selection import train_test_split\n",
        "from sklearn.preprocessing import StandardScaler\n",
        "\n",
        "#sklearn модули для Model Selection: \n",
        "from sklearn import svm, tree, linear_model, neighbors\n",
        "from sklearn import naive_bayes, ensemble, discriminant_analysis, gaussian_process\n",
        "from sklearn.neighbors import KNeighborsClassifier\n",
        "from sklearn.discriminant_analysis import LinearDiscriminantAnalysis\n",
        "from xgboost import XGBClassifier\n",
        "from sklearn.linear_model import LogisticRegression\n",
        "from sklearn.svm import SVC\n",
        "from sklearn.neighbors import KNeighborsClassifier\n",
        "from sklearn.naive_bayes import GaussianNB\n",
        "from sklearn.tree import DecisionTreeClassifier\n",
        "from sklearn.ensemble import RandomForestClassifier\n",
        "\n",
        "#sklearn модули для эволюции и улучшения моделей:\n",
        "from sklearn.metrics import confusion_matrix, accuracy_score \n",
        "from sklearn.metrics import f1_score, precision_score, recall_score, fbeta_score\n",
        "from statsmodels.stats.outliers_influence import variance_inflation_factor\n",
        "from sklearn.model_selection import cross_val_score\n",
        "from sklearn.model_selection import GridSearchCV\n",
        "from sklearn.model_selection import ShuffleSplit\n",
        "from sklearn.model_selection import KFold\n",
        "from sklearn import feature_selection\n",
        "from sklearn import model_selection\n",
        "from sklearn import metrics\n",
        "from sklearn.metrics import classification_report, precision_recall_curve\n",
        "from sklearn.metrics import auc, roc_auc_score, roc_curve\n",
        "from sklearn.metrics import make_scorer, recall_score, log_loss\n",
        "from sklearn.metrics import average_precision_score\n",
        "\n",
        "#Стандартные библиотки для визуализации данных:\n",
        "import seaborn as sn\n",
        "from matplotlib import pyplot\n",
        "import matplotlib.pyplot as plt\n",
        "import matplotlib.pylab as pylab\n",
        "import matplotlib \n",
        "%matplotlib inline\n",
        "color = sn.color_palette()\n",
        "import matplotlib.ticker as mtick\n",
        "from IPython.display import display\n",
        "pd.options.display.max_columns = None\n",
        "from pandas.plotting import scatter_matrix\n",
        "from sklearn.metrics import roc_curve\n",
        "\n",
        "#Различные библиотки утилит:\n",
        "import random\n",
        "import os\n",
        "import re\n",
        "import sys\n",
        "import timeit\n",
        "import string\n",
        "import time\n",
        "from datetime import datetime\n",
        "from time import time\n",
        "from dateutil.parser import parse\n",
        "import joblib"
      ],
      "metadata": {
        "colab": {
          "base_uri": "https://localhost:8080/"
        },
        "id": "5Dd9J_X3TqmW",
        "outputId": "d09195fd-90db-4623-8c75-01427cfcac2c"
      },
      "execution_count": 2,
      "outputs": [
        {
          "output_type": "stream",
          "name": "stdout",
          "text": [
            "Requirement already satisfied: pandas in /usr/local/lib/python3.7/dist-packages (1.1.5)\n",
            "Requirement already satisfied: numpy in /usr/local/lib/python3.7/dist-packages (1.19.5)\n",
            "Requirement already satisfied: keras in /usr/local/lib/python3.7/dist-packages (2.7.0)\n",
            "Requirement already satisfied: tensorflow in /usr/local/lib/python3.7/dist-packages (2.7.0)\n",
            "Requirement already satisfied: python-dateutil>=2.7.3 in /usr/local/lib/python3.7/dist-packages (from pandas) (2.8.2)\n",
            "Requirement already satisfied: pytz>=2017.2 in /usr/local/lib/python3.7/dist-packages (from pandas) (2018.9)\n",
            "Requirement already satisfied: six>=1.5 in /usr/local/lib/python3.7/dist-packages (from python-dateutil>=2.7.3->pandas) (1.15.0)\n",
            "Requirement already satisfied: gast<0.5.0,>=0.2.1 in /usr/local/lib/python3.7/dist-packages (from tensorflow) (0.4.0)\n",
            "Requirement already satisfied: typing-extensions>=3.6.6 in /usr/local/lib/python3.7/dist-packages (from tensorflow) (3.10.0.2)\n",
            "Requirement already satisfied: wheel<1.0,>=0.32.0 in /usr/local/lib/python3.7/dist-packages (from tensorflow) (0.37.1)\n",
            "Requirement already satisfied: termcolor>=1.1.0 in /usr/local/lib/python3.7/dist-packages (from tensorflow) (1.1.0)\n",
            "Requirement already satisfied: tensorflow-estimator<2.8,~=2.7.0rc0 in /usr/local/lib/python3.7/dist-packages (from tensorflow) (2.7.0)\n",
            "Requirement already satisfied: wrapt>=1.11.0 in /usr/local/lib/python3.7/dist-packages (from tensorflow) (1.13.3)\n",
            "Requirement already satisfied: flatbuffers<3.0,>=1.12 in /usr/local/lib/python3.7/dist-packages (from tensorflow) (2.0)\n",
            "Requirement already satisfied: tensorboard~=2.6 in /usr/local/lib/python3.7/dist-packages (from tensorflow) (2.7.0)\n",
            "Requirement already satisfied: opt-einsum>=2.3.2 in /usr/local/lib/python3.7/dist-packages (from tensorflow) (3.3.0)\n",
            "Requirement already satisfied: keras-preprocessing>=1.1.1 in /usr/local/lib/python3.7/dist-packages (from tensorflow) (1.1.2)\n",
            "Requirement already satisfied: tensorflow-io-gcs-filesystem>=0.21.0 in /usr/local/lib/python3.7/dist-packages (from tensorflow) (0.23.1)\n",
            "Requirement already satisfied: google-pasta>=0.1.1 in /usr/local/lib/python3.7/dist-packages (from tensorflow) (0.2.0)\n",
            "Requirement already satisfied: protobuf>=3.9.2 in /usr/local/lib/python3.7/dist-packages (from tensorflow) (3.17.3)\n",
            "Requirement already satisfied: grpcio<2.0,>=1.24.3 in /usr/local/lib/python3.7/dist-packages (from tensorflow) (1.43.0)\n",
            "Requirement already satisfied: astunparse>=1.6.0 in /usr/local/lib/python3.7/dist-packages (from tensorflow) (1.6.3)\n",
            "Requirement already satisfied: h5py>=2.9.0 in /usr/local/lib/python3.7/dist-packages (from tensorflow) (3.1.0)\n",
            "Requirement already satisfied: absl-py>=0.4.0 in /usr/local/lib/python3.7/dist-packages (from tensorflow) (1.0.0)\n",
            "Requirement already satisfied: libclang>=9.0.1 in /usr/local/lib/python3.7/dist-packages (from tensorflow) (12.0.0)\n",
            "Requirement already satisfied: cached-property in /usr/local/lib/python3.7/dist-packages (from h5py>=2.9.0->tensorflow) (1.5.2)\n",
            "Requirement already satisfied: tensorboard-data-server<0.7.0,>=0.6.0 in /usr/local/lib/python3.7/dist-packages (from tensorboard~=2.6->tensorflow) (0.6.1)\n",
            "Requirement already satisfied: google-auth<3,>=1.6.3 in /usr/local/lib/python3.7/dist-packages (from tensorboard~=2.6->tensorflow) (1.35.0)\n",
            "Requirement already satisfied: werkzeug>=0.11.15 in /usr/local/lib/python3.7/dist-packages (from tensorboard~=2.6->tensorflow) (1.0.1)\n",
            "Requirement already satisfied: setuptools>=41.0.0 in /usr/local/lib/python3.7/dist-packages (from tensorboard~=2.6->tensorflow) (57.4.0)\n",
            "Requirement already satisfied: requests<3,>=2.21.0 in /usr/local/lib/python3.7/dist-packages (from tensorboard~=2.6->tensorflow) (2.23.0)\n",
            "Requirement already satisfied: tensorboard-plugin-wit>=1.6.0 in /usr/local/lib/python3.7/dist-packages (from tensorboard~=2.6->tensorflow) (1.8.1)\n",
            "Requirement already satisfied: google-auth-oauthlib<0.5,>=0.4.1 in /usr/local/lib/python3.7/dist-packages (from tensorboard~=2.6->tensorflow) (0.4.6)\n",
            "Requirement already satisfied: markdown>=2.6.8 in /usr/local/lib/python3.7/dist-packages (from tensorboard~=2.6->tensorflow) (3.3.6)\n",
            "Requirement already satisfied: cachetools<5.0,>=2.0.0 in /usr/local/lib/python3.7/dist-packages (from google-auth<3,>=1.6.3->tensorboard~=2.6->tensorflow) (4.2.4)\n",
            "Requirement already satisfied: pyasn1-modules>=0.2.1 in /usr/local/lib/python3.7/dist-packages (from google-auth<3,>=1.6.3->tensorboard~=2.6->tensorflow) (0.2.8)\n",
            "Requirement already satisfied: rsa<5,>=3.1.4 in /usr/local/lib/python3.7/dist-packages (from google-auth<3,>=1.6.3->tensorboard~=2.6->tensorflow) (4.8)\n",
            "Requirement already satisfied: requests-oauthlib>=0.7.0 in /usr/local/lib/python3.7/dist-packages (from google-auth-oauthlib<0.5,>=0.4.1->tensorboard~=2.6->tensorflow) (1.3.0)\n",
            "Requirement already satisfied: importlib-metadata>=4.4 in /usr/local/lib/python3.7/dist-packages (from markdown>=2.6.8->tensorboard~=2.6->tensorflow) (4.10.1)\n",
            "Requirement already satisfied: zipp>=0.5 in /usr/local/lib/python3.7/dist-packages (from importlib-metadata>=4.4->markdown>=2.6.8->tensorboard~=2.6->tensorflow) (3.7.0)\n",
            "Requirement already satisfied: pyasn1<0.5.0,>=0.4.6 in /usr/local/lib/python3.7/dist-packages (from pyasn1-modules>=0.2.1->google-auth<3,>=1.6.3->tensorboard~=2.6->tensorflow) (0.4.8)\n",
            "Requirement already satisfied: chardet<4,>=3.0.2 in /usr/local/lib/python3.7/dist-packages (from requests<3,>=2.21.0->tensorboard~=2.6->tensorflow) (3.0.4)\n",
            "Requirement already satisfied: certifi>=2017.4.17 in /usr/local/lib/python3.7/dist-packages (from requests<3,>=2.21.0->tensorboard~=2.6->tensorflow) (2021.10.8)\n",
            "Requirement already satisfied: idna<3,>=2.5 in /usr/local/lib/python3.7/dist-packages (from requests<3,>=2.21.0->tensorboard~=2.6->tensorflow) (2.10)\n",
            "Requirement already satisfied: urllib3!=1.25.0,!=1.25.1,<1.26,>=1.21.1 in /usr/local/lib/python3.7/dist-packages (from requests<3,>=2.21.0->tensorboard~=2.6->tensorflow) (1.24.3)\n",
            "Requirement already satisfied: oauthlib>=3.0.0 in /usr/local/lib/python3.7/dist-packages (from requests-oauthlib>=0.7.0->google-auth-oauthlib<0.5,>=0.4.1->tensorboard~=2.6->tensorflow) (3.1.1)\n"
          ]
        },
        {
          "output_type": "stream",
          "name": "stderr",
          "text": [
            "/usr/local/lib/python3.7/dist-packages/statsmodels/tools/_testing.py:19: FutureWarning: pandas.util.testing is deprecated. Use the functions in the public API at pandas.testing instead.\n",
            "  import pandas.util.testing as tm\n"
          ]
        }
      ]
    },
    {
      "cell_type": "markdown",
      "source": [
        "# Загрузка и обработка материалов\n",
        "Теперь загрузим в программу наши наборы данных."
      ],
      "metadata": {
        "id": "kJPwWCgjeDrY"
      }
    },
    {
      "cell_type": "code",
      "source": [
        "datas_all_users = pd.read_csv('datas/01_all_users.csv')\n",
        "datas_events_log = pd.read_csv('datas/02_events_log.csv')\n",
        "datas_lk_events = pd.read_csv('datas/03_lk_events_log.csv')\n",
        "datas_is_blocked = pd.read_csv('datas/04_is_blocked.csv')"
      ],
      "metadata": {
        "id": "gkkiTQQNVxQB"
      },
      "execution_count": 3,
      "outputs": []
    },
    {
      "cell_type": "markdown",
      "source": [
        "Наш датасет изначально разбит на несколько файлов (01_all_users.csv, 02_events_log, 03_lk_events_log, 04_is_blocked). Давайте объединим их в один датафрейм. Признак для объединения - contract_id (по нему мы идентифицируем строки для объединения)."
      ],
      "metadata": {
        "id": "cfQLOSzVeSz-"
      }
    },
    {
      "cell_type": "code",
      "source": [
        "pd.concat((datas_events_log, datas_is_blocked), axis = 1)\n",
        "datas_merged = pd.merge(datas_events_log, datas_is_blocked, on=('contract_id'))\n",
        "datas_merged = pd.merge(datas_merged, datas_lk_events, on=('contract_id'))\n",
        "datas_merged = pd.merge(datas_merged, datas_all_users, on=('contract_id'))\n",
        "datas_merged"
      ],
      "metadata": {
        "colab": {
          "base_uri": "https://localhost:8080/",
          "height": 641
        },
        "id": "QDLTzQ_8W7mO",
        "outputId": "1ed821fd-9e9a-4291-a8ad-d4195e69dc9e"
      },
      "execution_count": 4,
      "outputs": [
        {
          "output_type": "execute_result",
          "data": {
            "text/html": [
              "\n",
              "  <div id=\"df-308b6a17-68bb-4d7d-a455-381ffca20a1d\">\n",
              "    <div class=\"colab-df-container\">\n",
              "      <div>\n",
              "<style scoped>\n",
              "    .dataframe tbody tr th:only-of-type {\n",
              "        vertical-align: middle;\n",
              "    }\n",
              "\n",
              "    .dataframe tbody tr th {\n",
              "        vertical-align: top;\n",
              "    }\n",
              "\n",
              "    .dataframe thead th {\n",
              "        text-align: right;\n",
              "    }\n",
              "</style>\n",
              "<table border=\"1\" class=\"dataframe\">\n",
              "  <thead>\n",
              "    <tr style=\"text-align: right;\">\n",
              "      <th></th>\n",
              "      <th>contract_id</th>\n",
              "      <th>event_date_x</th>\n",
              "      <th>event_type</th>\n",
              "      <th>blocked</th>\n",
              "      <th>event_date_y</th>\n",
              "      <th>name</th>\n",
              "      <th>day_or_month_contract</th>\n",
              "    </tr>\n",
              "  </thead>\n",
              "  <tbody>\n",
              "    <tr>\n",
              "      <th>0</th>\n",
              "      <td>33846</td>\n",
              "      <td>2021-04-03 19:09:26</td>\n",
              "      <td>Добавление в Обращались с номеров</td>\n",
              "      <td>1</td>\n",
              "      <td>2021-03-19 15:12:52</td>\n",
              "      <td>Информер ВК. Показ</td>\n",
              "      <td>0</td>\n",
              "    </tr>\n",
              "    <tr>\n",
              "      <th>1</th>\n",
              "      <td>33846</td>\n",
              "      <td>2021-04-03 19:09:26</td>\n",
              "      <td>Добавление в Обращались с номеров</td>\n",
              "      <td>1</td>\n",
              "      <td>2021-03-27 18:46:04</td>\n",
              "      <td>Информер ВК. Показ</td>\n",
              "      <td>0</td>\n",
              "    </tr>\n",
              "    <tr>\n",
              "      <th>2</th>\n",
              "      <td>33846</td>\n",
              "      <td>2021-04-03 19:09:26</td>\n",
              "      <td>Добавление в Обращались с номеров</td>\n",
              "      <td>1</td>\n",
              "      <td>2021-04-03 18:55:22</td>\n",
              "      <td>Информер ВК. Показ</td>\n",
              "      <td>0</td>\n",
              "    </tr>\n",
              "    <tr>\n",
              "      <th>3</th>\n",
              "      <td>33846</td>\n",
              "      <td>2021-04-08 10:59:48</td>\n",
              "      <td>Отключение услуги Аренда ТВ-приставки</td>\n",
              "      <td>1</td>\n",
              "      <td>2021-03-19 15:12:52</td>\n",
              "      <td>Информер ВК. Показ</td>\n",
              "      <td>0</td>\n",
              "    </tr>\n",
              "    <tr>\n",
              "      <th>4</th>\n",
              "      <td>33846</td>\n",
              "      <td>2021-04-08 10:59:48</td>\n",
              "      <td>Отключение услуги Аренда ТВ-приставки</td>\n",
              "      <td>1</td>\n",
              "      <td>2021-03-27 18:46:04</td>\n",
              "      <td>Информер ВК. Показ</td>\n",
              "      <td>0</td>\n",
              "    </tr>\n",
              "    <tr>\n",
              "      <th>...</th>\n",
              "      <td>...</td>\n",
              "      <td>...</td>\n",
              "      <td>...</td>\n",
              "      <td>...</td>\n",
              "      <td>...</td>\n",
              "      <td>...</td>\n",
              "      <td>...</td>\n",
              "    </tr>\n",
              "    <tr>\n",
              "      <th>36801</th>\n",
              "      <td>5023</td>\n",
              "      <td>2021-03-19 17:58:07</td>\n",
              "      <td>Манипуляции с оборудованием</td>\n",
              "      <td>0</td>\n",
              "      <td>2021-04-27 21:27:12</td>\n",
              "      <td>Информер ВК. Показ</td>\n",
              "      <td>0</td>\n",
              "    </tr>\n",
              "    <tr>\n",
              "      <th>36802</th>\n",
              "      <td>5023</td>\n",
              "      <td>2021-03-19 17:58:07</td>\n",
              "      <td>Манипуляции с оборудованием</td>\n",
              "      <td>0</td>\n",
              "      <td>2021-04-27 21:27:31</td>\n",
              "      <td>Включение IPTV-пакета</td>\n",
              "      <td>0</td>\n",
              "    </tr>\n",
              "    <tr>\n",
              "      <th>36803</th>\n",
              "      <td>5023</td>\n",
              "      <td>2021-03-19 17:58:07</td>\n",
              "      <td>Манипуляции с оборудованием</td>\n",
              "      <td>0</td>\n",
              "      <td>2021-04-28 20:26:50</td>\n",
              "      <td>Включение интернета на 20 минут</td>\n",
              "      <td>0</td>\n",
              "    </tr>\n",
              "    <tr>\n",
              "      <th>36804</th>\n",
              "      <td>5023</td>\n",
              "      <td>2021-03-19 17:58:07</td>\n",
              "      <td>Манипуляции с оборудованием</td>\n",
              "      <td>0</td>\n",
              "      <td>2021-04-28 20:32:05</td>\n",
              "      <td>Информер ВК. Показ</td>\n",
              "      <td>0</td>\n",
              "    </tr>\n",
              "    <tr>\n",
              "      <th>36805</th>\n",
              "      <td>5023</td>\n",
              "      <td>2021-03-19 17:58:07</td>\n",
              "      <td>Манипуляции с оборудованием</td>\n",
              "      <td>0</td>\n",
              "      <td>2021-04-29 7:50:44</td>\n",
              "      <td>Информер ВК. Показ</td>\n",
              "      <td>0</td>\n",
              "    </tr>\n",
              "  </tbody>\n",
              "</table>\n",
              "<p>36806 rows × 7 columns</p>\n",
              "</div>\n",
              "      <button class=\"colab-df-convert\" onclick=\"convertToInteractive('df-308b6a17-68bb-4d7d-a455-381ffca20a1d')\"\n",
              "              title=\"Convert this dataframe to an interactive table.\"\n",
              "              style=\"display:none;\">\n",
              "        \n",
              "  <svg xmlns=\"http://www.w3.org/2000/svg\" height=\"24px\"viewBox=\"0 0 24 24\"\n",
              "       width=\"24px\">\n",
              "    <path d=\"M0 0h24v24H0V0z\" fill=\"none\"/>\n",
              "    <path d=\"M18.56 5.44l.94 2.06.94-2.06 2.06-.94-2.06-.94-.94-2.06-.94 2.06-2.06.94zm-11 1L8.5 8.5l.94-2.06 2.06-.94-2.06-.94L8.5 2.5l-.94 2.06-2.06.94zm10 10l.94 2.06.94-2.06 2.06-.94-2.06-.94-.94-2.06-.94 2.06-2.06.94z\"/><path d=\"M17.41 7.96l-1.37-1.37c-.4-.4-.92-.59-1.43-.59-.52 0-1.04.2-1.43.59L10.3 9.45l-7.72 7.72c-.78.78-.78 2.05 0 2.83L4 21.41c.39.39.9.59 1.41.59.51 0 1.02-.2 1.41-.59l7.78-7.78 2.81-2.81c.8-.78.8-2.07 0-2.86zM5.41 20L4 18.59l7.72-7.72 1.47 1.35L5.41 20z\"/>\n",
              "  </svg>\n",
              "      </button>\n",
              "      \n",
              "  <style>\n",
              "    .colab-df-container {\n",
              "      display:flex;\n",
              "      flex-wrap:wrap;\n",
              "      gap: 12px;\n",
              "    }\n",
              "\n",
              "    .colab-df-convert {\n",
              "      background-color: #E8F0FE;\n",
              "      border: none;\n",
              "      border-radius: 50%;\n",
              "      cursor: pointer;\n",
              "      display: none;\n",
              "      fill: #1967D2;\n",
              "      height: 32px;\n",
              "      padding: 0 0 0 0;\n",
              "      width: 32px;\n",
              "    }\n",
              "\n",
              "    .colab-df-convert:hover {\n",
              "      background-color: #E2EBFA;\n",
              "      box-shadow: 0px 1px 2px rgba(60, 64, 67, 0.3), 0px 1px 3px 1px rgba(60, 64, 67, 0.15);\n",
              "      fill: #174EA6;\n",
              "    }\n",
              "\n",
              "    [theme=dark] .colab-df-convert {\n",
              "      background-color: #3B4455;\n",
              "      fill: #D2E3FC;\n",
              "    }\n",
              "\n",
              "    [theme=dark] .colab-df-convert:hover {\n",
              "      background-color: #434B5C;\n",
              "      box-shadow: 0px 1px 3px 1px rgba(0, 0, 0, 0.15);\n",
              "      filter: drop-shadow(0px 1px 2px rgba(0, 0, 0, 0.3));\n",
              "      fill: #FFFFFF;\n",
              "    }\n",
              "  </style>\n",
              "\n",
              "      <script>\n",
              "        const buttonEl =\n",
              "          document.querySelector('#df-308b6a17-68bb-4d7d-a455-381ffca20a1d button.colab-df-convert');\n",
              "        buttonEl.style.display =\n",
              "          google.colab.kernel.accessAllowed ? 'block' : 'none';\n",
              "\n",
              "        async function convertToInteractive(key) {\n",
              "          const element = document.querySelector('#df-308b6a17-68bb-4d7d-a455-381ffca20a1d');\n",
              "          const dataTable =\n",
              "            await google.colab.kernel.invokeFunction('convertToInteractive',\n",
              "                                                     [key], {});\n",
              "          if (!dataTable) return;\n",
              "\n",
              "          const docLinkHtml = 'Like what you see? Visit the ' +\n",
              "            '<a target=\"_blank\" href=https://colab.research.google.com/notebooks/data_table.ipynb>data table notebook</a>'\n",
              "            + ' to learn more about interactive tables.';\n",
              "          element.innerHTML = '';\n",
              "          dataTable['output_type'] = 'display_data';\n",
              "          await google.colab.output.renderOutput(dataTable, element);\n",
              "          const docLink = document.createElement('div');\n",
              "          docLink.innerHTML = docLinkHtml;\n",
              "          element.appendChild(docLink);\n",
              "        }\n",
              "      </script>\n",
              "    </div>\n",
              "  </div>\n",
              "  "
            ],
            "text/plain": [
              "       contract_id         event_date_x  \\\n",
              "0            33846  2021-04-03 19:09:26   \n",
              "1            33846  2021-04-03 19:09:26   \n",
              "2            33846  2021-04-03 19:09:26   \n",
              "3            33846  2021-04-08 10:59:48   \n",
              "4            33846  2021-04-08 10:59:48   \n",
              "...            ...                  ...   \n",
              "36801         5023  2021-03-19 17:58:07   \n",
              "36802         5023  2021-03-19 17:58:07   \n",
              "36803         5023  2021-03-19 17:58:07   \n",
              "36804         5023  2021-03-19 17:58:07   \n",
              "36805         5023  2021-03-19 17:58:07   \n",
              "\n",
              "                                  event_type  blocked         event_date_y  \\\n",
              "0          Добавление в Обращались с номеров        1  2021-03-19 15:12:52   \n",
              "1          Добавление в Обращались с номеров        1  2021-03-27 18:46:04   \n",
              "2          Добавление в Обращались с номеров        1  2021-04-03 18:55:22   \n",
              "3      Отключение услуги Аренда ТВ-приставки        1  2021-03-19 15:12:52   \n",
              "4      Отключение услуги Аренда ТВ-приставки        1  2021-03-27 18:46:04   \n",
              "...                                      ...      ...                  ...   \n",
              "36801            Манипуляции с оборудованием        0  2021-04-27 21:27:12   \n",
              "36802            Манипуляции с оборудованием        0  2021-04-27 21:27:31   \n",
              "36803            Манипуляции с оборудованием        0  2021-04-28 20:26:50   \n",
              "36804            Манипуляции с оборудованием        0  2021-04-28 20:32:05   \n",
              "36805            Манипуляции с оборудованием        0   2021-04-29 7:50:44   \n",
              "\n",
              "                                  name  day_or_month_contract  \n",
              "0                   Информер ВК. Показ                      0  \n",
              "1                   Информер ВК. Показ                      0  \n",
              "2                   Информер ВК. Показ                      0  \n",
              "3                   Информер ВК. Показ                      0  \n",
              "4                   Информер ВК. Показ                      0  \n",
              "...                                ...                    ...  \n",
              "36801               Информер ВК. Показ                      0  \n",
              "36802            Включение IPTV-пакета                      0  \n",
              "36803  Включение интернета на 20 минут                      0  \n",
              "36804               Информер ВК. Показ                      0  \n",
              "36805               Информер ВК. Показ                      0  \n",
              "\n",
              "[36806 rows x 7 columns]"
            ]
          },
          "metadata": {},
          "execution_count": 4
        }
      ]
    },
    {
      "cell_type": "markdown",
      "source": [
        "Давайте уберем из датасета колонку contract_id, чтобы она не мешалась при обучении. Однако, мы ее сохраним в test_identity, чтобы обратиться к ней позднее.\n",
        "Так же, мы полностью удалим колонки event_date_x, event_date_y, поскольку они не пригодятся в обучении."
      ],
      "metadata": {
        "id": "0qaAu9CiezXX"
      }
    },
    {
      "cell_type": "code",
      "source": [
        "test_identity = datas_merged['contract_id'] #копируем колонку contract_id в переменную test_identity, а на строке ниже - удаляем ее из основного датасета\n",
        "datas_merged = datas_merged.drop(['event_date_x', 'event_date_y', 'contract_id'], axis=1)\n",
        "datas_merged"
      ],
      "metadata": {
        "colab": {
          "base_uri": "https://localhost:8080/",
          "height": 423
        },
        "id": "7ZGsGtt1Zb30",
        "outputId": "40759c9a-9b6b-459b-fbcf-ed90ef137585"
      },
      "execution_count": 5,
      "outputs": [
        {
          "output_type": "execute_result",
          "data": {
            "text/html": [
              "\n",
              "  <div id=\"df-396f9869-8671-40c6-bdff-ba9b62513452\">\n",
              "    <div class=\"colab-df-container\">\n",
              "      <div>\n",
              "<style scoped>\n",
              "    .dataframe tbody tr th:only-of-type {\n",
              "        vertical-align: middle;\n",
              "    }\n",
              "\n",
              "    .dataframe tbody tr th {\n",
              "        vertical-align: top;\n",
              "    }\n",
              "\n",
              "    .dataframe thead th {\n",
              "        text-align: right;\n",
              "    }\n",
              "</style>\n",
              "<table border=\"1\" class=\"dataframe\">\n",
              "  <thead>\n",
              "    <tr style=\"text-align: right;\">\n",
              "      <th></th>\n",
              "      <th>event_type</th>\n",
              "      <th>blocked</th>\n",
              "      <th>name</th>\n",
              "      <th>day_or_month_contract</th>\n",
              "    </tr>\n",
              "  </thead>\n",
              "  <tbody>\n",
              "    <tr>\n",
              "      <th>0</th>\n",
              "      <td>Добавление в Обращались с номеров</td>\n",
              "      <td>1</td>\n",
              "      <td>Информер ВК. Показ</td>\n",
              "      <td>0</td>\n",
              "    </tr>\n",
              "    <tr>\n",
              "      <th>1</th>\n",
              "      <td>Добавление в Обращались с номеров</td>\n",
              "      <td>1</td>\n",
              "      <td>Информер ВК. Показ</td>\n",
              "      <td>0</td>\n",
              "    </tr>\n",
              "    <tr>\n",
              "      <th>2</th>\n",
              "      <td>Добавление в Обращались с номеров</td>\n",
              "      <td>1</td>\n",
              "      <td>Информер ВК. Показ</td>\n",
              "      <td>0</td>\n",
              "    </tr>\n",
              "    <tr>\n",
              "      <th>3</th>\n",
              "      <td>Отключение услуги Аренда ТВ-приставки</td>\n",
              "      <td>1</td>\n",
              "      <td>Информер ВК. Показ</td>\n",
              "      <td>0</td>\n",
              "    </tr>\n",
              "    <tr>\n",
              "      <th>4</th>\n",
              "      <td>Отключение услуги Аренда ТВ-приставки</td>\n",
              "      <td>1</td>\n",
              "      <td>Информер ВК. Показ</td>\n",
              "      <td>0</td>\n",
              "    </tr>\n",
              "    <tr>\n",
              "      <th>...</th>\n",
              "      <td>...</td>\n",
              "      <td>...</td>\n",
              "      <td>...</td>\n",
              "      <td>...</td>\n",
              "    </tr>\n",
              "    <tr>\n",
              "      <th>36801</th>\n",
              "      <td>Манипуляции с оборудованием</td>\n",
              "      <td>0</td>\n",
              "      <td>Информер ВК. Показ</td>\n",
              "      <td>0</td>\n",
              "    </tr>\n",
              "    <tr>\n",
              "      <th>36802</th>\n",
              "      <td>Манипуляции с оборудованием</td>\n",
              "      <td>0</td>\n",
              "      <td>Включение IPTV-пакета</td>\n",
              "      <td>0</td>\n",
              "    </tr>\n",
              "    <tr>\n",
              "      <th>36803</th>\n",
              "      <td>Манипуляции с оборудованием</td>\n",
              "      <td>0</td>\n",
              "      <td>Включение интернета на 20 минут</td>\n",
              "      <td>0</td>\n",
              "    </tr>\n",
              "    <tr>\n",
              "      <th>36804</th>\n",
              "      <td>Манипуляции с оборудованием</td>\n",
              "      <td>0</td>\n",
              "      <td>Информер ВК. Показ</td>\n",
              "      <td>0</td>\n",
              "    </tr>\n",
              "    <tr>\n",
              "      <th>36805</th>\n",
              "      <td>Манипуляции с оборудованием</td>\n",
              "      <td>0</td>\n",
              "      <td>Информер ВК. Показ</td>\n",
              "      <td>0</td>\n",
              "    </tr>\n",
              "  </tbody>\n",
              "</table>\n",
              "<p>36806 rows × 4 columns</p>\n",
              "</div>\n",
              "      <button class=\"colab-df-convert\" onclick=\"convertToInteractive('df-396f9869-8671-40c6-bdff-ba9b62513452')\"\n",
              "              title=\"Convert this dataframe to an interactive table.\"\n",
              "              style=\"display:none;\">\n",
              "        \n",
              "  <svg xmlns=\"http://www.w3.org/2000/svg\" height=\"24px\"viewBox=\"0 0 24 24\"\n",
              "       width=\"24px\">\n",
              "    <path d=\"M0 0h24v24H0V0z\" fill=\"none\"/>\n",
              "    <path d=\"M18.56 5.44l.94 2.06.94-2.06 2.06-.94-2.06-.94-.94-2.06-.94 2.06-2.06.94zm-11 1L8.5 8.5l.94-2.06 2.06-.94-2.06-.94L8.5 2.5l-.94 2.06-2.06.94zm10 10l.94 2.06.94-2.06 2.06-.94-2.06-.94-.94-2.06-.94 2.06-2.06.94z\"/><path d=\"M17.41 7.96l-1.37-1.37c-.4-.4-.92-.59-1.43-.59-.52 0-1.04.2-1.43.59L10.3 9.45l-7.72 7.72c-.78.78-.78 2.05 0 2.83L4 21.41c.39.39.9.59 1.41.59.51 0 1.02-.2 1.41-.59l7.78-7.78 2.81-2.81c.8-.78.8-2.07 0-2.86zM5.41 20L4 18.59l7.72-7.72 1.47 1.35L5.41 20z\"/>\n",
              "  </svg>\n",
              "      </button>\n",
              "      \n",
              "  <style>\n",
              "    .colab-df-container {\n",
              "      display:flex;\n",
              "      flex-wrap:wrap;\n",
              "      gap: 12px;\n",
              "    }\n",
              "\n",
              "    .colab-df-convert {\n",
              "      background-color: #E8F0FE;\n",
              "      border: none;\n",
              "      border-radius: 50%;\n",
              "      cursor: pointer;\n",
              "      display: none;\n",
              "      fill: #1967D2;\n",
              "      height: 32px;\n",
              "      padding: 0 0 0 0;\n",
              "      width: 32px;\n",
              "    }\n",
              "\n",
              "    .colab-df-convert:hover {\n",
              "      background-color: #E2EBFA;\n",
              "      box-shadow: 0px 1px 2px rgba(60, 64, 67, 0.3), 0px 1px 3px 1px rgba(60, 64, 67, 0.15);\n",
              "      fill: #174EA6;\n",
              "    }\n",
              "\n",
              "    [theme=dark] .colab-df-convert {\n",
              "      background-color: #3B4455;\n",
              "      fill: #D2E3FC;\n",
              "    }\n",
              "\n",
              "    [theme=dark] .colab-df-convert:hover {\n",
              "      background-color: #434B5C;\n",
              "      box-shadow: 0px 1px 3px 1px rgba(0, 0, 0, 0.15);\n",
              "      filter: drop-shadow(0px 1px 2px rgba(0, 0, 0, 0.3));\n",
              "      fill: #FFFFFF;\n",
              "    }\n",
              "  </style>\n",
              "\n",
              "      <script>\n",
              "        const buttonEl =\n",
              "          document.querySelector('#df-396f9869-8671-40c6-bdff-ba9b62513452 button.colab-df-convert');\n",
              "        buttonEl.style.display =\n",
              "          google.colab.kernel.accessAllowed ? 'block' : 'none';\n",
              "\n",
              "        async function convertToInteractive(key) {\n",
              "          const element = document.querySelector('#df-396f9869-8671-40c6-bdff-ba9b62513452');\n",
              "          const dataTable =\n",
              "            await google.colab.kernel.invokeFunction('convertToInteractive',\n",
              "                                                     [key], {});\n",
              "          if (!dataTable) return;\n",
              "\n",
              "          const docLinkHtml = 'Like what you see? Visit the ' +\n",
              "            '<a target=\"_blank\" href=https://colab.research.google.com/notebooks/data_table.ipynb>data table notebook</a>'\n",
              "            + ' to learn more about interactive tables.';\n",
              "          element.innerHTML = '';\n",
              "          dataTable['output_type'] = 'display_data';\n",
              "          await google.colab.output.renderOutput(dataTable, element);\n",
              "          const docLink = document.createElement('div');\n",
              "          docLink.innerHTML = docLinkHtml;\n",
              "          element.appendChild(docLink);\n",
              "        }\n",
              "      </script>\n",
              "    </div>\n",
              "  </div>\n",
              "  "
            ],
            "text/plain": [
              "                                  event_type  blocked  \\\n",
              "0          Добавление в Обращались с номеров        1   \n",
              "1          Добавление в Обращались с номеров        1   \n",
              "2          Добавление в Обращались с номеров        1   \n",
              "3      Отключение услуги Аренда ТВ-приставки        1   \n",
              "4      Отключение услуги Аренда ТВ-приставки        1   \n",
              "...                                      ...      ...   \n",
              "36801            Манипуляции с оборудованием        0   \n",
              "36802            Манипуляции с оборудованием        0   \n",
              "36803            Манипуляции с оборудованием        0   \n",
              "36804            Манипуляции с оборудованием        0   \n",
              "36805            Манипуляции с оборудованием        0   \n",
              "\n",
              "                                  name  day_or_month_contract  \n",
              "0                   Информер ВК. Показ                      0  \n",
              "1                   Информер ВК. Показ                      0  \n",
              "2                   Информер ВК. Показ                      0  \n",
              "3                   Информер ВК. Показ                      0  \n",
              "4                   Информер ВК. Показ                      0  \n",
              "...                                ...                    ...  \n",
              "36801               Информер ВК. Показ                      0  \n",
              "36802            Включение IPTV-пакета                      0  \n",
              "36803  Включение интернета на 20 минут                      0  \n",
              "36804               Информер ВК. Показ                      0  \n",
              "36805               Информер ВК. Показ                      0  \n",
              "\n",
              "[36806 rows x 4 columns]"
            ]
          },
          "metadata": {},
          "execution_count": 5
        }
      ]
    },
    {
      "cell_type": "markdown",
      "source": [
        "Давайте создадим график. Однако, у нас слишком уж много значений в полях, поэтому график разглядет сложно; но, можно ориентироваться на цвета (чем темнее - тем более часто оно встречается):"
      ],
      "metadata": {
        "id": "vUtORH5ef21E"
      }
    },
    {
      "cell_type": "code",
      "source": [
        "sns.countplot(x='blocked',data=datas_merged, hue='event_type',palette='viridis')"
      ],
      "metadata": {
        "colab": {
          "base_uri": "https://localhost:8080/",
          "height": 1000
        },
        "id": "JRf8QfO6YF9e",
        "outputId": "1f91f27b-7d70-44ef-e580-4f0fe9483bb2"
      },
      "execution_count": 6,
      "outputs": [
        {
          "output_type": "execute_result",
          "data": {
            "text/plain": [
              "<matplotlib.axes._subplots.AxesSubplot at 0x7f7206d94410>"
            ]
          },
          "metadata": {},
          "execution_count": 6
        },
        {
          "output_type": "display_data",
          "data": {
            "image/png": "[encoded data removed]",
            "text/plain": [
              "<Figure size 432x288 with 1 Axes>"
            ]
          },
          "metadata": {
            "needs_background": "light"
          }
        }
      ]
    },
    {
      "cell_type": "code",
      "source": [
        "sns.countplot(x='blocked',data=datas_merged, hue='name',palette='viridis')"
      ],
      "metadata": {
        "colab": {
          "base_uri": "https://localhost:8080/",
          "height": 778
        },
        "id": "k49Xg5ZyE6ho",
        "outputId": "ef1ef0f4-bada-44d1-e10b-7c5cb1d24ba5"
      },
      "execution_count": 7,
      "outputs": [
        {
          "output_type": "execute_result",
          "data": {
            "text/plain": [
              "<matplotlib.axes._subplots.AxesSubplot at 0x7f72064cd390>"
            ]
          },
          "metadata": {},
          "execution_count": 7
        },
        {
          "output_type": "display_data",
          "data": {
            "image/png": "[encoded data removed]",
            "text/plain": [
              "<Figure size 432x288 with 1 Axes>"
            ]
          },
          "metadata": {
            "needs_background": "light"
          }
        }
      ]
    },
    {
      "cell_type": "markdown",
      "source": [
        "Большая проблема в том, что данные о действиях клиента представлены в текстовом формате, ими обучить модель не получится. Нам необходимо перевести их в челочисленный вид. Для этого мы создадим \"словарь\", где каждому возможному типу события присвоим номер.\n",
        "Вначале для колонки event_type:"
      ],
      "metadata": {
        "id": "Rf5gQMedf9rA"
      }
    },
    {
      "cell_type": "code",
      "source": [
        "original_copied = datas_copy = datas_merged\n",
        "datas_merged_temp = datas_merged\n",
        "event_type_list = datas_merged.event_type.unique()\n",
        "exist_events = dict(zip(event_type_list, range(len(event_type_list))))\n",
        "datas_merged = datas_merged_temp\n",
        "exist_events"
      ],
      "metadata": {
        "colab": {
          "base_uri": "https://localhost:8080/"
        },
        "id": "vxgrwNoSkz9L",
        "outputId": "8bba54af-35d5-499d-9ea1-23716bca96aa"
      },
      "execution_count": 8,
      "outputs": [
        {
          "output_type": "execute_result",
          "data": {
            "text/plain": [
              "{'Активация ГП с IVR': 37,\n",
              " 'Активация автоматического гарантированного платежа': 46,\n",
              " 'Активация гарантированного платежа': 24,\n",
              " 'Активация точки подключения на сутки': 10,\n",
              " 'Без границ бесплатно. Включение': 43,\n",
              " 'Без границ бесплатно. Отключение': 56,\n",
              " 'Блокировка': 30,\n",
              " 'Включена 10% скидка': 58,\n",
              " 'Включена 20% скидка': 17,\n",
              " 'Включена 30% скидка': 45,\n",
              " 'Включена рассрочка за \"IPTV-приставка\"': 68,\n",
              " 'Включена рассрочка за \"Wi-Fi маршрутизатор 2.4 ГГц - TP-LINK WR-850N или аналог\"': 50,\n",
              " 'Включение IPTV-пакета': 19,\n",
              " 'Включение Бесплатной аренды': 38,\n",
              " 'Включение интернета на 20 минут': 25,\n",
              " 'Включение рассрочки за \"Подключение\"': 61,\n",
              " 'Включение старых условий аренды': 69,\n",
              " 'Включение услуги \"IPTV-Бонус\"': 16,\n",
              " 'Включение услуги \"Ограничение функций ТВ\"': 63,\n",
              " 'Включение услуги Аренда ТВ-приставки': 18,\n",
              " 'Внесение': 27,\n",
              " 'Внутреннее сообщение': 6,\n",
              " 'Возвращение гарантированного платежа': 67,\n",
              " 'Возвращение клиента': 9,\n",
              " 'Выключение IPTV-пакета': 20,\n",
              " 'Добавление IP-адреса': 53,\n",
              " 'Добавление в Обращались с номеров': 0,\n",
              " 'Закрепление сообщения': 34,\n",
              " 'Замена оборудования': 39,\n",
              " 'Изменение данных клиента': 8,\n",
              " 'Изменение истории': 28,\n",
              " 'Изменение контактных телефонов': 26,\n",
              " 'Манипуляции с оборудованием': 52,\n",
              " 'Оборудование': 2,\n",
              " 'Обращение в службу заботы о клиентах': 5,\n",
              " 'Окончание рассрочки за подключение': 62,\n",
              " 'Операция с mac-адресом': 7,\n",
              " 'Отключение скидки': 44,\n",
              " 'Отключение скидки 10%': 60,\n",
              " 'Отключение скидки 20%': 22,\n",
              " 'Отключение услуги \"IPTV-Бонус\"': 21,\n",
              " 'Отключение услуги Автоплатёж': 47,\n",
              " 'Отключение услуги Аренда ТВ-приставки': 1,\n",
              " 'Отмена гарантированного платежа': 51,\n",
              " 'Перенос денежных средств': 40,\n",
              " 'Предложение IPTV': 33,\n",
              " 'Предложение ТВ': 4,\n",
              " 'Предложение ТВ-пакета': 35,\n",
              " 'Предложение автоплатежа': 36,\n",
              " 'Предложение акции \"Пригласи друга\"': 32,\n",
              " 'Предложение доп.гарантии на роутер': 64,\n",
              " 'Предложение расширенной гарантии на ТВ приставку': 55,\n",
              " 'Предложение роутера': 65,\n",
              " 'Предложение тарифа': 23,\n",
              " 'Продление действия тарифа': 57,\n",
              " 'Расторжение': 48,\n",
              " 'Реестр договоров': 31,\n",
              " 'Смена IP-адреса': 29,\n",
              " 'Смена пароля': 3,\n",
              " 'Смена следующего тарифа': 49,\n",
              " 'Смена схемы оплаты': 15,\n",
              " 'Смена тарифа': 11,\n",
              " 'Состояние клиентского оборудования': 14,\n",
              " 'Тайный покупатель': 66,\n",
              " 'Уведомления: отключение': 59,\n",
              " 'Уведомления: подключение': 12,\n",
              " 'Уведомления: подтверждение': 13,\n",
              " 'Удаление ip-адреса': 54,\n",
              " 'Удаление из Обращались с номеров': 41,\n",
              " 'Удаление телефона из записи': 42}"
            ]
          },
          "metadata": {},
          "execution_count": 8
        }
      ]
    },
    {
      "cell_type": "markdown",
      "source": [
        "Теперь тоже самое для колонки name:"
      ],
      "metadata": {
        "id": "IZRdSbQ0gd3c"
      }
    },
    {
      "cell_type": "code",
      "source": [
        "original_copied_2 = original_copied\n",
        "datas_merged_temp = original_copied\n",
        "name_list = original_copied.name.unique()\n",
        "exist_named = dict(zip(name_list, range(len(name_list)+1)))\n",
        "datas_merged = datas_merged_temp\n",
        "exist_named"
      ],
      "metadata": {
        "colab": {
          "base_uri": "https://localhost:8080/"
        },
        "id": "Eqs-T2IGFFq_",
        "outputId": "bbdbc084-5606-4887-b4dc-d47de60e68ae"
      },
      "execution_count": 9,
      "outputs": [
        {
          "output_type": "execute_result",
          "data": {
            "text/plain": [
              "{'Абонент оставил отзыв в Личном кабинете': 11,\n",
              " 'Без границ бесплатно. Включение': 22,\n",
              " 'Без границ бесплатно. Отключение': 8,\n",
              " 'Без границ платно. Включение': 23,\n",
              " 'Без границ платно. Отключение': 24,\n",
              " 'Бонус-скорость': 28,\n",
              " 'Виртуальное бессмертие. Включение': 6,\n",
              " 'Виртуальное бессмертие. Использование': 7,\n",
              " 'Виртуальное бессмертие. Отключение': 26,\n",
              " 'Включение IPTV-пакета': 12,\n",
              " 'Включение автоматической активации ГП': 16,\n",
              " 'Включение интернета на 20 минут': 3,\n",
              " 'Включение интернета на 20 минут с IVR': 4,\n",
              " 'Включение ограничения функций ТВ': 14,\n",
              " 'Включение управления услугами по паролю': 38,\n",
              " 'Восстановление пароля': 30,\n",
              " 'Выключение IPTV-пакета': 15,\n",
              " 'Гарантированный платеж за деньги': 2,\n",
              " 'Закрытие информатора об изменении уведомлений через ВК платформу': 37,\n",
              " 'Изменение пакета HD. Закрытие лендинг-информера': 29,\n",
              " 'Изменение схемы оплаты': 44,\n",
              " 'Информер ВК. Закрытие': 5,\n",
              " 'Информер ВК. Показ': 0,\n",
              " 'Общий счет. Отсоединение от донора': 40,\n",
              " 'Общий счет. Отсоединение реципиента': 39,\n",
              " 'Отключение управления услугами по паролю': 36,\n",
              " 'Отключение услуги \"Стоп-тариф\"': 41,\n",
              " 'Отключение услуги Автоплатёж': 13,\n",
              " 'Подписка на ivi. Включение триала': 42,\n",
              " 'Подписка на ivi. Отключение автопродления подписки': 43,\n",
              " 'Показ информатора об изменении уведомлений через ВК платформу': 20,\n",
              " 'Получение подарка в ЛК: 1 месяц бесплатного просмотра IPTV': 17,\n",
              " 'Получение подарка в ЛК: сутки интернета на максимальной скорости': 18,\n",
              " 'Принято заявление и доп. соглашение по переезду': 9,\n",
              " 'Просмотр раздела Тайный покупатель': 1,\n",
              " 'Родительский контроль. Включение': 34,\n",
              " 'Родительский контроль. Выключение': 35,\n",
              " 'Смена пароля': 10,\n",
              " 'Смена тарифа': 21,\n",
              " 'Становление участником бонусной программы': 33,\n",
              " 'Тайный покупатель. Отправлена анкета': 27,\n",
              " 'Турбокнопка бесплатно': 25,\n",
              " 'Турбокнопка платно (1 сутки)': 19,\n",
              " 'Турбокнопка платно (1 час)': 32,\n",
              " 'Футболка Ситилинк': 31}"
            ]
          },
          "metadata": {},
          "execution_count": 9
        }
      ]
    },
    {
      "cell_type": "markdown",
      "source": [
        "Словарь значений готов.\n",
        "\n",
        "Теперь в самом датапаке изменим текстовые значения на целочисленные, согласно словарю:"
      ],
      "metadata": {
        "id": "RS0XMdQygjaT"
      }
    },
    {
      "cell_type": "code",
      "source": [
        "datas_copy['event_type'] = datas_copy['event_type'].map(exist_events)\n",
        "datas_copy['name'] = datas_copy['name'].map(exist_named)\n",
        "datas_copy"
      ],
      "metadata": {
        "colab": {
          "base_uri": "https://localhost:8080/",
          "height": 423
        },
        "id": "0RyuxfRVlhex",
        "outputId": "faabf878-950f-4560-8e59-5f8db62dcb7f"
      },
      "execution_count": 10,
      "outputs": [
        {
          "output_type": "execute_result",
          "data": {
            "text/html": [
              "\n",
              "  <div id=\"df-9adeb893-d2a8-4c6a-af4a-d44bd23c790b\">\n",
              "    <div class=\"colab-df-container\">\n",
              "      <div>\n",
              "<style scoped>\n",
              "    .dataframe tbody tr th:only-of-type {\n",
              "        vertical-align: middle;\n",
              "    }\n",
              "\n",
              "    .dataframe tbody tr th {\n",
              "        vertical-align: top;\n",
              "    }\n",
              "\n",
              "    .dataframe thead th {\n",
              "        text-align: right;\n",
              "    }\n",
              "</style>\n",
              "<table border=\"1\" class=\"dataframe\">\n",
              "  <thead>\n",
              "    <tr style=\"text-align: right;\">\n",
              "      <th></th>\n",
              "      <th>event_type</th>\n",
              "      <th>blocked</th>\n",
              "      <th>name</th>\n",
              "      <th>day_or_month_contract</th>\n",
              "    </tr>\n",
              "  </thead>\n",
              "  <tbody>\n",
              "    <tr>\n",
              "      <th>0</th>\n",
              "      <td>0</td>\n",
              "      <td>1</td>\n",
              "      <td>0</td>\n",
              "      <td>0</td>\n",
              "    </tr>\n",
              "    <tr>\n",
              "      <th>1</th>\n",
              "      <td>0</td>\n",
              "      <td>1</td>\n",
              "      <td>0</td>\n",
              "      <td>0</td>\n",
              "    </tr>\n",
              "    <tr>\n",
              "      <th>2</th>\n",
              "      <td>0</td>\n",
              "      <td>1</td>\n",
              "      <td>0</td>\n",
              "      <td>0</td>\n",
              "    </tr>\n",
              "    <tr>\n",
              "      <th>3</th>\n",
              "      <td>1</td>\n",
              "      <td>1</td>\n",
              "      <td>0</td>\n",
              "      <td>0</td>\n",
              "    </tr>\n",
              "    <tr>\n",
              "      <th>4</th>\n",
              "      <td>1</td>\n",
              "      <td>1</td>\n",
              "      <td>0</td>\n",
              "      <td>0</td>\n",
              "    </tr>\n",
              "    <tr>\n",
              "      <th>...</th>\n",
              "      <td>...</td>\n",
              "      <td>...</td>\n",
              "      <td>...</td>\n",
              "      <td>...</td>\n",
              "    </tr>\n",
              "    <tr>\n",
              "      <th>36801</th>\n",
              "      <td>52</td>\n",
              "      <td>0</td>\n",
              "      <td>0</td>\n",
              "      <td>0</td>\n",
              "    </tr>\n",
              "    <tr>\n",
              "      <th>36802</th>\n",
              "      <td>52</td>\n",
              "      <td>0</td>\n",
              "      <td>12</td>\n",
              "      <td>0</td>\n",
              "    </tr>\n",
              "    <tr>\n",
              "      <th>36803</th>\n",
              "      <td>52</td>\n",
              "      <td>0</td>\n",
              "      <td>3</td>\n",
              "      <td>0</td>\n",
              "    </tr>\n",
              "    <tr>\n",
              "      <th>36804</th>\n",
              "      <td>52</td>\n",
              "      <td>0</td>\n",
              "      <td>0</td>\n",
              "      <td>0</td>\n",
              "    </tr>\n",
              "    <tr>\n",
              "      <th>36805</th>\n",
              "      <td>52</td>\n",
              "      <td>0</td>\n",
              "      <td>0</td>\n",
              "      <td>0</td>\n",
              "    </tr>\n",
              "  </tbody>\n",
              "</table>\n",
              "<p>36806 rows × 4 columns</p>\n",
              "</div>\n",
              "      <button class=\"colab-df-convert\" onclick=\"convertToInteractive('df-9adeb893-d2a8-4c6a-af4a-d44bd23c790b')\"\n",
              "              title=\"Convert this dataframe to an interactive table.\"\n",
              "              style=\"display:none;\">\n",
              "        \n",
              "  <svg xmlns=\"http://www.w3.org/2000/svg\" height=\"24px\"viewBox=\"0 0 24 24\"\n",
              "       width=\"24px\">\n",
              "    <path d=\"M0 0h24v24H0V0z\" fill=\"none\"/>\n",
              "    <path d=\"M18.56 5.44l.94 2.06.94-2.06 2.06-.94-2.06-.94-.94-2.06-.94 2.06-2.06.94zm-11 1L8.5 8.5l.94-2.06 2.06-.94-2.06-.94L8.5 2.5l-.94 2.06-2.06.94zm10 10l.94 2.06.94-2.06 2.06-.94-2.06-.94-.94-2.06-.94 2.06-2.06.94z\"/><path d=\"M17.41 7.96l-1.37-1.37c-.4-.4-.92-.59-1.43-.59-.52 0-1.04.2-1.43.59L10.3 9.45l-7.72 7.72c-.78.78-.78 2.05 0 2.83L4 21.41c.39.39.9.59 1.41.59.51 0 1.02-.2 1.41-.59l7.78-7.78 2.81-2.81c.8-.78.8-2.07 0-2.86zM5.41 20L4 18.59l7.72-7.72 1.47 1.35L5.41 20z\"/>\n",
              "  </svg>\n",
              "      </button>\n",
              "      \n",
              "  <style>\n",
              "    .colab-df-container {\n",
              "      display:flex;\n",
              "      flex-wrap:wrap;\n",
              "      gap: 12px;\n",
              "    }\n",
              "\n",
              "    .colab-df-convert {\n",
              "      background-color: #E8F0FE;\n",
              "      border: none;\n",
              "      border-radius: 50%;\n",
              "      cursor: pointer;\n",
              "      display: none;\n",
              "      fill: #1967D2;\n",
              "      height: 32px;\n",
              "      padding: 0 0 0 0;\n",
              "      width: 32px;\n",
              "    }\n",
              "\n",
              "    .colab-df-convert:hover {\n",
              "      background-color: #E2EBFA;\n",
              "      box-shadow: 0px 1px 2px rgba(60, 64, 67, 0.3), 0px 1px 3px 1px rgba(60, 64, 67, 0.15);\n",
              "      fill: #174EA6;\n",
              "    }\n",
              "\n",
              "    [theme=dark] .colab-df-convert {\n",
              "      background-color: #3B4455;\n",
              "      fill: #D2E3FC;\n",
              "    }\n",
              "\n",
              "    [theme=dark] .colab-df-convert:hover {\n",
              "      background-color: #434B5C;\n",
              "      box-shadow: 0px 1px 3px 1px rgba(0, 0, 0, 0.15);\n",
              "      filter: drop-shadow(0px 1px 2px rgba(0, 0, 0, 0.3));\n",
              "      fill: #FFFFFF;\n",
              "    }\n",
              "  </style>\n",
              "\n",
              "      <script>\n",
              "        const buttonEl =\n",
              "          document.querySelector('#df-9adeb893-d2a8-4c6a-af4a-d44bd23c790b button.colab-df-convert');\n",
              "        buttonEl.style.display =\n",
              "          google.colab.kernel.accessAllowed ? 'block' : 'none';\n",
              "\n",
              "        async function convertToInteractive(key) {\n",
              "          const element = document.querySelector('#df-9adeb893-d2a8-4c6a-af4a-d44bd23c790b');\n",
              "          const dataTable =\n",
              "            await google.colab.kernel.invokeFunction('convertToInteractive',\n",
              "                                                     [key], {});\n",
              "          if (!dataTable) return;\n",
              "\n",
              "          const docLinkHtml = 'Like what you see? Visit the ' +\n",
              "            '<a target=\"_blank\" href=https://colab.research.google.com/notebooks/data_table.ipynb>data table notebook</a>'\n",
              "            + ' to learn more about interactive tables.';\n",
              "          element.innerHTML = '';\n",
              "          dataTable['output_type'] = 'display_data';\n",
              "          await google.colab.output.renderOutput(dataTable, element);\n",
              "          const docLink = document.createElement('div');\n",
              "          docLink.innerHTML = docLinkHtml;\n",
              "          element.appendChild(docLink);\n",
              "        }\n",
              "      </script>\n",
              "    </div>\n",
              "  </div>\n",
              "  "
            ],
            "text/plain": [
              "       event_type  blocked  name  day_or_month_contract\n",
              "0               0        1     0                      0\n",
              "1               0        1     0                      0\n",
              "2               0        1     0                      0\n",
              "3               1        1     0                      0\n",
              "4               1        1     0                      0\n",
              "...           ...      ...   ...                    ...\n",
              "36801          52        0     0                      0\n",
              "36802          52        0    12                      0\n",
              "36803          52        0     3                      0\n",
              "36804          52        0     0                      0\n",
              "36805          52        0     0                      0\n",
              "\n",
              "[36806 rows x 4 columns]"
            ]
          },
          "metadata": {},
          "execution_count": 10
        }
      ]
    },
    {
      "cell_type": "markdown",
      "source": [
        "Убедимся, что все получилось и вместо строковых значений теперь представлены целочисленные:"
      ],
      "metadata": {
        "id": "LYX0Cajzgwoc"
      }
    },
    {
      "cell_type": "code",
      "source": [
        "sns.countplot(x='blocked',data=datas_copy, hue='event_type',palette='viridis')"
      ],
      "metadata": {
        "colab": {
          "base_uri": "https://localhost:8080/",
          "height": 1000
        },
        "id": "PBJbyQeuqMbT",
        "outputId": "47a932d3-e921-4b6e-809e-18a00007acf8"
      },
      "execution_count": 11,
      "outputs": [
        {
          "output_type": "execute_result",
          "data": {
            "text/plain": [
              "<matplotlib.axes._subplots.AxesSubplot at 0x7f7204aff350>"
            ]
          },
          "metadata": {},
          "execution_count": 11
        },
        {
          "output_type": "display_data",
          "data": {
            "image/png": "[encoded data removed]",
            "text/plain": [
              "<Figure size 432x288 with 1 Axes>"
            ]
          },
          "metadata": {
            "needs_background": "light"
          }
        }
      ]
    },
    {
      "cell_type": "markdown",
      "source": [
        "Давайте теперь создадим еще одну копию нашего датасета на этом этапе, чтобы позже вернуться к нему, а так же, проверим, корректно ли все на данный момент:"
      ],
      "metadata": {
        "id": "Ep7D20Kzg6Zt"
      }
    },
    {
      "cell_type": "code",
      "source": [
        "datas_copy2 = datas_copy\n",
        "datas_copy"
      ],
      "metadata": {
        "id": "RMT2eIX-0IWr",
        "outputId": "50b527b2-61b2-48ff-9baa-dac4f3c98834",
        "colab": {
          "base_uri": "https://localhost:8080/",
          "height": 423
        }
      },
      "execution_count": 12,
      "outputs": [
        {
          "output_type": "execute_result",
          "data": {
            "text/html": [
              "\n",
              "  <div id=\"df-b7349f75-6a5d-4869-98cb-acd572f961a1\">\n",
              "    <div class=\"colab-df-container\">\n",
              "      <div>\n",
              "<style scoped>\n",
              "    .dataframe tbody tr th:only-of-type {\n",
              "        vertical-align: middle;\n",
              "    }\n",
              "\n",
              "    .dataframe tbody tr th {\n",
              "        vertical-align: top;\n",
              "    }\n",
              "\n",
              "    .dataframe thead th {\n",
              "        text-align: right;\n",
              "    }\n",
              "</style>\n",
              "<table border=\"1\" class=\"dataframe\">\n",
              "  <thead>\n",
              "    <tr style=\"text-align: right;\">\n",
              "      <th></th>\n",
              "      <th>event_type</th>\n",
              "      <th>blocked</th>\n",
              "      <th>name</th>\n",
              "      <th>day_or_month_contract</th>\n",
              "    </tr>\n",
              "  </thead>\n",
              "  <tbody>\n",
              "    <tr>\n",
              "      <th>0</th>\n",
              "      <td>0</td>\n",
              "      <td>1</td>\n",
              "      <td>0</td>\n",
              "      <td>0</td>\n",
              "    </tr>\n",
              "    <tr>\n",
              "      <th>1</th>\n",
              "      <td>0</td>\n",
              "      <td>1</td>\n",
              "      <td>0</td>\n",
              "      <td>0</td>\n",
              "    </tr>\n",
              "    <tr>\n",
              "      <th>2</th>\n",
              "      <td>0</td>\n",
              "      <td>1</td>\n",
              "      <td>0</td>\n",
              "      <td>0</td>\n",
              "    </tr>\n",
              "    <tr>\n",
              "      <th>3</th>\n",
              "      <td>1</td>\n",
              "      <td>1</td>\n",
              "      <td>0</td>\n",
              "      <td>0</td>\n",
              "    </tr>\n",
              "    <tr>\n",
              "      <th>4</th>\n",
              "      <td>1</td>\n",
              "      <td>1</td>\n",
              "      <td>0</td>\n",
              "      <td>0</td>\n",
              "    </tr>\n",
              "    <tr>\n",
              "      <th>...</th>\n",
              "      <td>...</td>\n",
              "      <td>...</td>\n",
              "      <td>...</td>\n",
              "      <td>...</td>\n",
              "    </tr>\n",
              "    <tr>\n",
              "      <th>36801</th>\n",
              "      <td>52</td>\n",
              "      <td>0</td>\n",
              "      <td>0</td>\n",
              "      <td>0</td>\n",
              "    </tr>\n",
              "    <tr>\n",
              "      <th>36802</th>\n",
              "      <td>52</td>\n",
              "      <td>0</td>\n",
              "      <td>12</td>\n",
              "      <td>0</td>\n",
              "    </tr>\n",
              "    <tr>\n",
              "      <th>36803</th>\n",
              "      <td>52</td>\n",
              "      <td>0</td>\n",
              "      <td>3</td>\n",
              "      <td>0</td>\n",
              "    </tr>\n",
              "    <tr>\n",
              "      <th>36804</th>\n",
              "      <td>52</td>\n",
              "      <td>0</td>\n",
              "      <td>0</td>\n",
              "      <td>0</td>\n",
              "    </tr>\n",
              "    <tr>\n",
              "      <th>36805</th>\n",
              "      <td>52</td>\n",
              "      <td>0</td>\n",
              "      <td>0</td>\n",
              "      <td>0</td>\n",
              "    </tr>\n",
              "  </tbody>\n",
              "</table>\n",
              "<p>36806 rows × 4 columns</p>\n",
              "</div>\n",
              "      <button class=\"colab-df-convert\" onclick=\"convertToInteractive('df-b7349f75-6a5d-4869-98cb-acd572f961a1')\"\n",
              "              title=\"Convert this dataframe to an interactive table.\"\n",
              "              style=\"display:none;\">\n",
              "        \n",
              "  <svg xmlns=\"http://www.w3.org/2000/svg\" height=\"24px\"viewBox=\"0 0 24 24\"\n",
              "       width=\"24px\">\n",
              "    <path d=\"M0 0h24v24H0V0z\" fill=\"none\"/>\n",
              "    <path d=\"M18.56 5.44l.94 2.06.94-2.06 2.06-.94-2.06-.94-.94-2.06-.94 2.06-2.06.94zm-11 1L8.5 8.5l.94-2.06 2.06-.94-2.06-.94L8.5 2.5l-.94 2.06-2.06.94zm10 10l.94 2.06.94-2.06 2.06-.94-2.06-.94-.94-2.06-.94 2.06-2.06.94z\"/><path d=\"M17.41 7.96l-1.37-1.37c-.4-.4-.92-.59-1.43-.59-.52 0-1.04.2-1.43.59L10.3 9.45l-7.72 7.72c-.78.78-.78 2.05 0 2.83L4 21.41c.39.39.9.59 1.41.59.51 0 1.02-.2 1.41-.59l7.78-7.78 2.81-2.81c.8-.78.8-2.07 0-2.86zM5.41 20L4 18.59l7.72-7.72 1.47 1.35L5.41 20z\"/>\n",
              "  </svg>\n",
              "      </button>\n",
              "      \n",
              "  <style>\n",
              "    .colab-df-container {\n",
              "      display:flex;\n",
              "      flex-wrap:wrap;\n",
              "      gap: 12px;\n",
              "    }\n",
              "\n",
              "    .colab-df-convert {\n",
              "      background-color: #E8F0FE;\n",
              "      border: none;\n",
              "      border-radius: 50%;\n",
              "      cursor: pointer;\n",
              "      display: none;\n",
              "      fill: #1967D2;\n",
              "      height: 32px;\n",
              "      padding: 0 0 0 0;\n",
              "      width: 32px;\n",
              "    }\n",
              "\n",
              "    .colab-df-convert:hover {\n",
              "      background-color: #E2EBFA;\n",
              "      box-shadow: 0px 1px 2px rgba(60, 64, 67, 0.3), 0px 1px 3px 1px rgba(60, 64, 67, 0.15);\n",
              "      fill: #174EA6;\n",
              "    }\n",
              "\n",
              "    [theme=dark] .colab-df-convert {\n",
              "      background-color: #3B4455;\n",
              "      fill: #D2E3FC;\n",
              "    }\n",
              "\n",
              "    [theme=dark] .colab-df-convert:hover {\n",
              "      background-color: #434B5C;\n",
              "      box-shadow: 0px 1px 3px 1px rgba(0, 0, 0, 0.15);\n",
              "      filter: drop-shadow(0px 1px 2px rgba(0, 0, 0, 0.3));\n",
              "      fill: #FFFFFF;\n",
              "    }\n",
              "  </style>\n",
              "\n",
              "      <script>\n",
              "        const buttonEl =\n",
              "          document.querySelector('#df-b7349f75-6a5d-4869-98cb-acd572f961a1 button.colab-df-convert');\n",
              "        buttonEl.style.display =\n",
              "          google.colab.kernel.accessAllowed ? 'block' : 'none';\n",
              "\n",
              "        async function convertToInteractive(key) {\n",
              "          const element = document.querySelector('#df-b7349f75-6a5d-4869-98cb-acd572f961a1');\n",
              "          const dataTable =\n",
              "            await google.colab.kernel.invokeFunction('convertToInteractive',\n",
              "                                                     [key], {});\n",
              "          if (!dataTable) return;\n",
              "\n",
              "          const docLinkHtml = 'Like what you see? Visit the ' +\n",
              "            '<a target=\"_blank\" href=https://colab.research.google.com/notebooks/data_table.ipynb>data table notebook</a>'\n",
              "            + ' to learn more about interactive tables.';\n",
              "          element.innerHTML = '';\n",
              "          dataTable['output_type'] = 'display_data';\n",
              "          await google.colab.output.renderOutput(dataTable, element);\n",
              "          const docLink = document.createElement('div');\n",
              "          docLink.innerHTML = docLinkHtml;\n",
              "          element.appendChild(docLink);\n",
              "        }\n",
              "      </script>\n",
              "    </div>\n",
              "  </div>\n",
              "  "
            ],
            "text/plain": [
              "       event_type  blocked  name  day_or_month_contract\n",
              "0               0        1     0                      0\n",
              "1               0        1     0                      0\n",
              "2               0        1     0                      0\n",
              "3               1        1     0                      0\n",
              "4               1        1     0                      0\n",
              "...           ...      ...   ...                    ...\n",
              "36801          52        0     0                      0\n",
              "36802          52        0    12                      0\n",
              "36803          52        0     3                      0\n",
              "36804          52        0     0                      0\n",
              "36805          52        0     0                      0\n",
              "\n",
              "[36806 rows x 4 columns]"
            ]
          },
          "metadata": {},
          "execution_count": 12
        }
      ]
    },
    {
      "cell_type": "markdown",
      "source": [
        "Колонка blocked сообщает, ушел ли пользователь (customer churn);\n",
        "где 1 - ушел, а 0 - не ушел.\n",
        "Давайте посмотрим на то, сколько у нас таких пользователей:"
      ],
      "metadata": {
        "id": "HnY_6UAahUWU"
      }
    },
    {
      "cell_type": "code",
      "source": [
        "#Проверяем значения blocked\n",
        "datas_copy[\"blocked\"].value_counts()"
      ],
      "metadata": {
        "colab": {
          "base_uri": "https://localhost:8080/"
        },
        "id": "JApNBaSsPdhK",
        "outputId": "36dec78a-c251-4182-cc65-12dd3c22f963"
      },
      "execution_count": 13,
      "outputs": [
        {
          "output_type": "execute_result",
          "data": {
            "text/plain": [
              "0    29894\n",
              "1     6912\n",
              "Name: blocked, dtype: int64"
            ]
          },
          "metadata": {},
          "execution_count": 13
        }
      ]
    },
    {
      "cell_type": "markdown",
      "source": [
        "Заботимся о недостающих данных. Важно проверить статус каждой колонки, они все должны быть non-null (не пустые)."
      ],
      "metadata": {
        "id": "WfCO11Qshllw"
      }
    },
    {
      "cell_type": "code",
      "source": [
        "datas_copy.info()\n",
        "datas_copy.isna().any()"
      ],
      "metadata": {
        "colab": {
          "base_uri": "https://localhost:8080/"
        },
        "id": "DT0l-0kBPxA_",
        "outputId": "7ee47d0b-3b44-408a-c482-f41caeba00a7"
      },
      "execution_count": 14,
      "outputs": [
        {
          "output_type": "stream",
          "name": "stdout",
          "text": [
            "<class 'pandas.core.frame.DataFrame'>\n",
            "Int64Index: 36806 entries, 0 to 36805\n",
            "Data columns (total 4 columns):\n",
            " #   Column                 Non-Null Count  Dtype\n",
            "---  ------                 --------------  -----\n",
            " 0   event_type             36806 non-null  int64\n",
            " 1   blocked                36806 non-null  int64\n",
            " 2   name                   36806 non-null  int64\n",
            " 3   day_or_month_contract  36806 non-null  int64\n",
            "dtypes: int64(4)\n",
            "memory usage: 2.7 MB\n"
          ]
        },
        {
          "output_type": "execute_result",
          "data": {
            "text/plain": [
              "event_type               False\n",
              "blocked                  False\n",
              "name                     False\n",
              "day_or_month_contract    False\n",
              "dtype: bool"
            ]
          },
          "metadata": {},
          "execution_count": 14
        }
      ]
    },
    {
      "cell_type": "markdown",
      "source": [
        "Колонку со значениями blocked мы удалим из датасета и сохраним в переменной response, чтобы применить отдельно от основных сведениях о клиенте во время обучения. "
      ],
      "metadata": {
        "id": "mWRqRdEkh5wU"
      }
    },
    {
      "cell_type": "code",
      "source": [
        "response = datas_copy2[\"blocked\"]\n",
        "dataset = datas_copy2.drop(columns=\"blocked\")"
      ],
      "metadata": {
        "id": "w7T-AeE9SJW6"
      },
      "execution_count": 15,
      "outputs": []
    },
    {
      "cell_type": "markdown",
      "source": [
        "Разобьем наш подготовленный датасет на два: обучающи1 и тестовый наборы данных зависимых и независимых переменных:"
      ],
      "metadata": {
        "id": "rIynpLi8iWUx"
      }
    },
    {
      "cell_type": "code",
      "source": [
        "X_train, X_test, y_train, y_test = train_test_split(dataset, response,\n",
        "                                                    stratify=response, #для устранения любого дисбаланса классов - используем параметр stratify\n",
        "                                                    test_size = 0.2, #используйте 0.9, если данные очень большие (150к+ строк)\n",
        "                                                    random_state = 0)\n",
        "\n",
        "print(\"Number transactions X_train dataset: \", X_train.shape) #количество транзакций X_train набора данных\n",
        "print(\"Number transactions y_train dataset: \", y_train.shape) #количество транзакций y_train набора данных\n",
        "print(\"Number transactions X_test dataset: \", X_test.shape) #количество транзакций X_test набора данных\n",
        "print(\"Number transactions y_test dataset: \", y_test.shape) #количество транзакций y_test набора данных"
      ],
      "metadata": {
        "colab": {
          "base_uri": "https://localhost:8080/"
        },
        "id": "XiCwD7LLQINS",
        "outputId": "8429c761-7df8-403f-bd26-53d2eac5717c"
      },
      "execution_count": 16,
      "outputs": [
        {
          "output_type": "stream",
          "name": "stdout",
          "text": [
            "Number transactions X_train dataset:  (29444, 3)\n",
            "Number transactions y_train dataset:  (29444,)\n",
            "Number transactions X_test dataset:  (7362, 3)\n",
            "Number transactions y_test dataset:  (7362,)\n"
          ]
        }
      ]
    },
    {
      "cell_type": "markdown",
      "source": [
        "Проведем масштабирование функций: очень важно нормализовать переменные перед выполнением любых алгоритмов машинного обучения (классификации), чтобы все обучающие и тестовые переменные были масштабированы в диапазоне от 0 до 1."
      ],
      "metadata": {
        "id": "imounlLvj6Q4"
      }
    },
    {
      "cell_type": "code",
      "source": [
        "sc_X = StandardScaler()\n",
        "X_train2 = pd.DataFrame(sc_X.fit_transform(X_train))\n",
        "X_train2.columns = X_train.columns.values\n",
        "X_train2.index = X_train.index.values\n",
        "X_train = X_train2\n",
        "\n",
        "X_test2 = pd.DataFrame(sc_X.transform(X_test))\n",
        "X_test2.columns = X_test.columns.values\n",
        "X_test2.index = X_test.index.values\n",
        "X_test = X_test2"
      ],
      "metadata": {
        "id": "0Bu-47sIS-ak"
      },
      "execution_count": 17,
      "outputs": []
    },
    {
      "cell_type": "markdown",
      "source": [
        "# Выбор модели\n",
        "Сравним базовые алгоритмы классификации (1-я итерация). Давайте смоделируем каждый алгоритм классификации на наборе обучающих данных и оценим их точность и показатели стандартного отклонения.\n",
        "\n",
        "Точность классификации является одним из наиболее распространенных показателей оценки классификации для сравнения базовых алгоритмов, так как это количество правильных прогнозов, сделанных как отношение к общему количеству прогнозов. Однако это не идеальная метрика, когда у нас есть проблема дисбаланса классов. Следовательно, давайте отсортируем результаты на основе значения «среднего AUC», которое представляет собой не что иное, как способность модели различать положительные и отрицательные классы.\n",
        "\n",
        "Ps: если выберем подходящий алгоритм, то получим и высокую точность конечной модели:)"
      ],
      "metadata": {
        "id": "BhVUS2NDkMg3"
      }
    },
    {
      "cell_type": "code",
      "source": [
        "models = []\n",
        "models.append(('Logistic Regression', LogisticRegression(solver='liblinear', random_state = 0,\n",
        "                                                         class_weight='balanced')))\n",
        "\n",
        "models.append(('SVC', SVC(kernel = 'linear', random_state = 0)))\n",
        "\n",
        "models.append(('Kernel SVM', SVC(kernel = 'rbf', random_state = 0)))\n",
        "\n",
        "models.append(('KNN', KNeighborsClassifier(n_neighbors = 5, metric = 'minkowski', p = 2)))\n",
        "\n",
        "models.append(('Gaussian NB', GaussianNB()))\n",
        "\n",
        "models.append(('Decision Tree Classifier',\n",
        "               DecisionTreeClassifier(criterion = 'entropy', random_state = 0)))\n",
        "\n",
        "models.append(('Random Forest', RandomForestClassifier(\n",
        "    n_estimators=100, criterion = 'entropy', random_state = 0)))\n",
        "\n",
        "\n",
        "#Оценим результатов модели:    \n",
        "acc_results = []\n",
        "auc_results = []\n",
        "names = []\n",
        "#Вставим таблицу в таблицу для заполнения результатами производительности\n",
        "col = ['Algorithm', 'ROC AUC Mean', 'ROC AUC STD', \n",
        "       'Accuracy Mean', 'Accuracy STD']\n",
        "\n",
        "model_results = pd.DataFrame(columns=col)\n",
        "i = 0\n",
        "\n",
        "#Оценим каждую модель, используя k-кратную перекрестную проверку\n",
        "for name, model in models:\n",
        "    kfold = model_selection.KFold(\n",
        "        n_splits=10, shuffle=True, random_state=0)  #10-кратная перекрестная проверка\n",
        "\n",
        "    cv_acc_results = model_selection.cross_val_score(  #Оценка точности\n",
        "        model, X_train, y_train, cv=kfold, scoring='accuracy')\n",
        "\n",
        "    cv_auc_results = model_selection.cross_val_score(  #Определим метрику ROC_AUC \n",
        "        model, X_train, y_train, cv=kfold, scoring='roc_auc')\n",
        "\n",
        "    acc_results.append(cv_acc_results)\n",
        "    auc_results.append(cv_auc_results)\n",
        "    names.append(name)\n",
        "    model_results.loc[i] = [name,\n",
        "                         round(cv_auc_results.mean()*100, 2),\n",
        "                         round(cv_auc_results.std()*100, 2),\n",
        "                         round(cv_acc_results.mean()*100, 2),\n",
        "                         round(cv_acc_results.std()*100, 2)\n",
        "                         ]\n",
        "    i += 1\n",
        "\n",
        "#сделаем копию результатов (понадобятся в конце), а так же покажем табличку с результатами различных алгоритмов обучения\n",
        "model_results_backup = model_results\n",
        "model_results.sort_values(by=['ROC AUC Mean'], ascending=False)"
      ],
      "metadata": {
        "id": "63uo6dI1TS_w",
        "colab": {
          "base_uri": "https://localhost:8080/",
          "height": 269
        },
        "outputId": "ffdaad9d-db00-4cad-d27f-3ddca843dc80"
      },
      "execution_count": 18,
      "outputs": [
        {
          "output_type": "execute_result",
          "data": {
            "text/html": [
              "\n",
              "  <div id=\"df-a046aad6-7a54-440d-b05e-528b28c7b2da\">\n",
              "    <div class=\"colab-df-container\">\n",
              "      <div>\n",
              "<style scoped>\n",
              "    .dataframe tbody tr th:only-of-type {\n",
              "        vertical-align: middle;\n",
              "    }\n",
              "\n",
              "    .dataframe tbody tr th {\n",
              "        vertical-align: top;\n",
              "    }\n",
              "\n",
              "    .dataframe thead th {\n",
              "        text-align: right;\n",
              "    }\n",
              "</style>\n",
              "<table border=\"1\" class=\"dataframe\">\n",
              "  <thead>\n",
              "    <tr style=\"text-align: right;\">\n",
              "      <th></th>\n",
              "      <th>Algorithm</th>\n",
              "      <th>ROC AUC Mean</th>\n",
              "      <th>ROC AUC STD</th>\n",
              "      <th>Accuracy Mean</th>\n",
              "      <th>Accuracy STD</th>\n",
              "    </tr>\n",
              "  </thead>\n",
              "  <tbody>\n",
              "    <tr>\n",
              "      <th>6</th>\n",
              "      <td>Random Forest</td>\n",
              "      <td>87.05</td>\n",
              "      <td>0.63</td>\n",
              "      <td>88.02</td>\n",
              "      <td>0.48</td>\n",
              "    </tr>\n",
              "    <tr>\n",
              "      <th>5</th>\n",
              "      <td>Decision Tree Classifier</td>\n",
              "      <td>86.33</td>\n",
              "      <td>0.70</td>\n",
              "      <td>88.01</td>\n",
              "      <td>0.49</td>\n",
              "    </tr>\n",
              "    <tr>\n",
              "      <th>3</th>\n",
              "      <td>KNN</td>\n",
              "      <td>81.76</td>\n",
              "      <td>1.33</td>\n",
              "      <td>85.59</td>\n",
              "      <td>1.98</td>\n",
              "    </tr>\n",
              "    <tr>\n",
              "      <th>2</th>\n",
              "      <td>Kernel SVM</td>\n",
              "      <td>80.26</td>\n",
              "      <td>0.93</td>\n",
              "      <td>85.73</td>\n",
              "      <td>0.64</td>\n",
              "    </tr>\n",
              "    <tr>\n",
              "      <th>4</th>\n",
              "      <td>Gaussian NB</td>\n",
              "      <td>66.26</td>\n",
              "      <td>0.95</td>\n",
              "      <td>81.22</td>\n",
              "      <td>0.63</td>\n",
              "    </tr>\n",
              "    <tr>\n",
              "      <th>0</th>\n",
              "      <td>Logistic Regression</td>\n",
              "      <td>58.87</td>\n",
              "      <td>1.29</td>\n",
              "      <td>51.77</td>\n",
              "      <td>0.75</td>\n",
              "    </tr>\n",
              "    <tr>\n",
              "      <th>1</th>\n",
              "      <td>SVC</td>\n",
              "      <td>48.92</td>\n",
              "      <td>5.52</td>\n",
              "      <td>81.22</td>\n",
              "      <td>0.63</td>\n",
              "    </tr>\n",
              "  </tbody>\n",
              "</table>\n",
              "</div>\n",
              "      <button class=\"colab-df-convert\" onclick=\"convertToInteractive('df-a046aad6-7a54-440d-b05e-528b28c7b2da')\"\n",
              "              title=\"Convert this dataframe to an interactive table.\"\n",
              "              style=\"display:none;\">\n",
              "        \n",
              "  <svg xmlns=\"http://www.w3.org/2000/svg\" height=\"24px\"viewBox=\"0 0 24 24\"\n",
              "       width=\"24px\">\n",
              "    <path d=\"M0 0h24v24H0V0z\" fill=\"none\"/>\n",
              "    <path d=\"M18.56 5.44l.94 2.06.94-2.06 2.06-.94-2.06-.94-.94-2.06-.94 2.06-2.06.94zm-11 1L8.5 8.5l.94-2.06 2.06-.94-2.06-.94L8.5 2.5l-.94 2.06-2.06.94zm10 10l.94 2.06.94-2.06 2.06-.94-2.06-.94-.94-2.06-.94 2.06-2.06.94z\"/><path d=\"M17.41 7.96l-1.37-1.37c-.4-.4-.92-.59-1.43-.59-.52 0-1.04.2-1.43.59L10.3 9.45l-7.72 7.72c-.78.78-.78 2.05 0 2.83L4 21.41c.39.39.9.59 1.41.59.51 0 1.02-.2 1.41-.59l7.78-7.78 2.81-2.81c.8-.78.8-2.07 0-2.86zM5.41 20L4 18.59l7.72-7.72 1.47 1.35L5.41 20z\"/>\n",
              "  </svg>\n",
              "      </button>\n",
              "      \n",
              "  <style>\n",
              "    .colab-df-container {\n",
              "      display:flex;\n",
              "      flex-wrap:wrap;\n",
              "      gap: 12px;\n",
              "    }\n",
              "\n",
              "    .colab-df-convert {\n",
              "      background-color: #E8F0FE;\n",
              "      border: none;\n",
              "      border-radius: 50%;\n",
              "      cursor: pointer;\n",
              "      display: none;\n",
              "      fill: #1967D2;\n",
              "      height: 32px;\n",
              "      padding: 0 0 0 0;\n",
              "      width: 32px;\n",
              "    }\n",
              "\n",
              "    .colab-df-convert:hover {\n",
              "      background-color: #E2EBFA;\n",
              "      box-shadow: 0px 1px 2px rgba(60, 64, 67, 0.3), 0px 1px 3px 1px rgba(60, 64, 67, 0.15);\n",
              "      fill: #174EA6;\n",
              "    }\n",
              "\n",
              "    [theme=dark] .colab-df-convert {\n",
              "      background-color: #3B4455;\n",
              "      fill: #D2E3FC;\n",
              "    }\n",
              "\n",
              "    [theme=dark] .colab-df-convert:hover {\n",
              "      background-color: #434B5C;\n",
              "      box-shadow: 0px 1px 3px 1px rgba(0, 0, 0, 0.15);\n",
              "      filter: drop-shadow(0px 1px 2px rgba(0, 0, 0, 0.3));\n",
              "      fill: #FFFFFF;\n",
              "    }\n",
              "  </style>\n",
              "\n",
              "      <script>\n",
              "        const buttonEl =\n",
              "          document.querySelector('#df-a046aad6-7a54-440d-b05e-528b28c7b2da button.colab-df-convert');\n",
              "        buttonEl.style.display =\n",
              "          google.colab.kernel.accessAllowed ? 'block' : 'none';\n",
              "\n",
              "        async function convertToInteractive(key) {\n",
              "          const element = document.querySelector('#df-a046aad6-7a54-440d-b05e-528b28c7b2da');\n",
              "          const dataTable =\n",
              "            await google.colab.kernel.invokeFunction('convertToInteractive',\n",
              "                                                     [key], {});\n",
              "          if (!dataTable) return;\n",
              "\n",
              "          const docLinkHtml = 'Like what you see? Visit the ' +\n",
              "            '<a target=\"_blank\" href=https://colab.research.google.com/notebooks/data_table.ipynb>data table notebook</a>'\n",
              "            + ' to learn more about interactive tables.';\n",
              "          element.innerHTML = '';\n",
              "          dataTable['output_type'] = 'display_data';\n",
              "          await google.colab.output.renderOutput(dataTable, element);\n",
              "          const docLink = document.createElement('div');\n",
              "          docLink.innerHTML = docLinkHtml;\n",
              "          element.appendChild(docLink);\n",
              "        }\n",
              "      </script>\n",
              "    </div>\n",
              "  </div>\n",
              "  "
            ],
            "text/plain": [
              "                  Algorithm  ROC AUC Mean  ROC AUC STD  Accuracy Mean  \\\n",
              "6             Random Forest         87.05         0.63          88.02   \n",
              "5  Decision Tree Classifier         86.33         0.70          88.01   \n",
              "3                       KNN         81.76         1.33          85.59   \n",
              "2                Kernel SVM         80.26         0.93          85.73   \n",
              "4               Gaussian NB         66.26         0.95          81.22   \n",
              "0       Logistic Regression         58.87         1.29          51.77   \n",
              "1                       SVC         48.92         5.52          81.22   \n",
              "\n",
              "   Accuracy STD  \n",
              "6          0.48  \n",
              "5          0.49  \n",
              "3          1.98  \n",
              "2          0.64  \n",
              "4          0.63  \n",
              "0          0.75  \n",
              "1          0.63  "
            ]
          },
          "metadata": {},
          "execution_count": 18
        }
      ]
    },
    {
      "cell_type": "markdown",
      "source": [
        "Показал себя хорошо алгоритм Kernel SVM, у него лучший результат:) но некоторые другие смотрят ему в спину!)"
      ],
      "metadata": {
        "id": "KjhpGHl3lQ1F"
      }
    },
    {
      "cell_type": "code",
      "source": [
        "print(\"Algorithm: Kernel SVM, \\n    ROC AUC:\\n        ROC AUC Mean:\", model_results.loc[2][1], \"\\n        ROC AUC STD:\", model_results.loc[2][2], \"\\n    Accuracy:\\n        Accuracy Mean:\", model_results.loc[2][3], \"\\n        Accuracy STD:\", model_results.loc[2][4]) "
      ],
      "metadata": {
        "id": "Xp1AvouYYRr0",
        "colab": {
          "base_uri": "https://localhost:8080/"
        },
        "outputId": "a1eec0f7-4803-49b6-d1e8-8f1f574b9b21"
      },
      "execution_count": 19,
      "outputs": [
        {
          "output_type": "stream",
          "name": "stdout",
          "text": [
            "Algorithm: Kernel SVM, \n",
            "    ROC AUC:\n",
            "        ROC AUC Mean: 80.26 \n",
            "        ROC AUC STD: 0.93 \n",
            "    Accuracy:\n",
            "        Accuracy Mean: 85.73 \n",
            "        Accuracy STD: 0.64\n"
          ]
        }
      ]
    },
    {
      "cell_type": "markdown",
      "source": [
        "Визуализируем сравнение точности алгоритмов классификации:"
      ],
      "metadata": {
        "id": "QbljTFrwllIg"
      }
    },
    {
      "cell_type": "code",
      "source": [
        " #using Area under ROC Curve:\n",
        "\n",
        "fig = plt.figure(figsize=(15, 7))\n",
        "ax = fig.add_subplot(111)\n",
        "plt.boxplot(auc_results)\n",
        "ax.set_xticklabels(names)\n",
        "\n",
        "\n",
        "#plt.ylabel('ROC AUC Score\\n',horizontalalignment=\"center\",fontstyle = \"normal\", fontsize = \"large\", fontfamily = \"sans-serif\")\n",
        "#plt.xlabel('\\n Baseline Classification Algorithms\\n',horizontalalignment=\"center\",fontstyle = \"normal\", fontsize = \"large\", fontfamily = \"sans-serif\")\n",
        "plt.title('Сравнение ROC AUC в зависимости от алгоритма \\n',horizontalalignment=\"center\", fontstyle = \"normal\", fontsize = \"22\", fontfamily = \"sans-serif\")\n",
        "#plt.legend(loc='top right', fontsize = \"medium\")\n",
        "plt.xticks(rotation=0, horizontalalignment=\"center\")\n",
        "plt.yticks(rotation=0, horizontalalignment=\"right\")\n",
        "\n",
        "\n",
        "plt.show()"
      ],
      "metadata": {
        "id": "5Ba1CxRva-a2",
        "colab": {
          "base_uri": "https://localhost:8080/",
          "height": 474
        },
        "outputId": "2885ad6a-19d3-4f38-a8f5-573ae449c022"
      },
      "execution_count": 20,
      "outputs": [
        {
          "output_type": "display_data",
          "data": {
            "image/png": "[encoded data removed]",
            "text/plain": [
              "<Figure size 1080x504 with 1 Axes>"
            ]
          },
          "metadata": {
            "needs_background": "light"
          }
        }
      ]
    },
    {
      "cell_type": "markdown",
      "source": [
        "В блоке ниже находится код обучения для различных алгормов, уже более точный, - можно запросто скопировать код для подходящего алгоритма и обучать с ним, но я оставлю здесь код для всех алгоритмов:"
      ],
      "metadata": {
        "id": "5dn1WGQ5luYg"
      }
    },
    {
      "cell_type": "code",
      "source": [
        "#Logistic Regression\n",
        "\n",
        "#Подгонка Logistic Regression к тренировочному набору:\n",
        "classifier = LogisticRegression(random_state = 0)\n",
        "classifier.fit(X_train, y_train)\n",
        "\n",
        "#Прогнозирование результатов набора тестов:\n",
        "y_pred = classifier.predict(X_test)\n",
        "\n",
        "#Оценивание результатов:\n",
        "acc = accuracy_score(y_test, y_pred )\n",
        "prec = precision_score(y_test, y_pred )\n",
        "rec = recall_score(y_test, y_pred )\n",
        "f1 = f1_score(y_test, y_pred )\n",
        "f2 = fbeta_score(y_test, y_pred, beta=2.0)\n",
        "\n",
        "results = pd.DataFrame([['Logistic Regression', acc, prec, rec, f1, f2]],\n",
        "               columns = ['Model', 'Accuracy', 'Precision', 'Recall', 'F1 Score', 'F2 Score'])\n",
        "\n",
        "\n",
        "#SVM\n",
        "\n",
        "#Подгонка SVM (SVC class) к тренировочному набору:\n",
        "classifier = SVC(kernel = 'linear', random_state = 0)\n",
        "classifier.fit(X_train, y_train)\n",
        "\n",
        "#Прогнозирование результатов набора тестов:\n",
        "y_pred = classifier.predict(X_test)\n",
        "\n",
        "#Оценивание результатов:\n",
        "acc = accuracy_score(y_test, y_pred )\n",
        "prec = precision_score(y_test, y_pred )\n",
        "rec = recall_score(y_test, y_pred)\n",
        "f1 = f1_score(y_test, y_pred )\n",
        "f2 = fbeta_score(y_test, y_pred, beta=2.0)\n",
        "\n",
        "model_results = pd.DataFrame([['SVM (Linear)', acc, prec, rec, f1, f2]],\n",
        "               columns = ['Model', 'Accuracy', 'Precision', 'Recall', 'F1 Score', 'F2 Score'])\n",
        "\n",
        "results = results.append(model_results, ignore_index = True)\n",
        "\n",
        "\n",
        "#K-Nearest Neighbours\n",
        "\n",
        "#Подгонка KNN к тренировочному набору:\n",
        "classifier = KNeighborsClassifier(n_neighbors = 22, metric = 'minkowski', p = 2)\n",
        "classifier.fit(X_train, y_train)\n",
        "\n",
        "#Прогнозирование результатов набора тестов:\n",
        "y_pred  = classifier.predict(X_test)\n",
        "\n",
        "#Оценивание результатов:\n",
        "acc = accuracy_score(y_test, y_pred )\n",
        "prec = precision_score(y_test, y_pred )\n",
        "rec = recall_score(y_test, y_pred )\n",
        "f1 = f1_score(y_test, y_pred )\n",
        "f2 = fbeta_score(y_test, y_pred, beta=2.0)\n",
        "\n",
        "model_results = pd.DataFrame([['K-Nearest Neighbours', acc, prec, rec, f1, f2]],\n",
        "               columns = ['Model', 'Accuracy', 'Precision', 'Recall', 'F1 Score', 'F2 Score'])\n",
        "\n",
        "results = results.append(model_results, ignore_index = True)\n",
        "\n",
        "\n",
        "#Kernel SVM\n",
        "\n",
        "#Подгонка Kernel SVM к тренировочному набору:\n",
        "classifier = SVC(kernel = 'rbf', random_state = 0)\n",
        "classifier.fit(X_train, y_train)\n",
        "\n",
        "#Прогнозирование результатов набора тестов:\n",
        "y_pred = classifier.predict(X_test)\n",
        "\n",
        "#Оценивание результатов:\n",
        "acc = accuracy_score(y_test, y_pred )\n",
        "prec = precision_score(y_test, y_pred )\n",
        "rec = recall_score(y_test, y_pred )\n",
        "f1 = f1_score(y_test, y_pred )\n",
        "f2 = fbeta_score(y_test, y_pred, beta=2.0)\n",
        "\n",
        "model_results = pd.DataFrame([['Kernel SVM', acc, prec, rec, f1, f2]],\n",
        "               columns = ['Model', 'Accuracy', 'Precision', 'Recall', 'F1 Score', 'F2 Score'])\n",
        "\n",
        "results = results.append(model_results, ignore_index = True)\n",
        "\n",
        "\n",
        "#Naive Byes\n",
        "\n",
        "#Подгонка Naive Byes (GaussianNB) к тренировочному набору:\n",
        "classifier = GaussianNB()\n",
        "classifier.fit(X_train, y_train)\n",
        "\n",
        "#Прогнозирование результатов набора тестов:\n",
        "y_pred = classifier.predict(X_test)\n",
        "\n",
        "#Оценивание результатов:\n",
        "acc = accuracy_score(y_test, y_pred )\n",
        "prec = precision_score(y_test, y_pred )\n",
        "rec = recall_score(y_test, y_pred )\n",
        "f1 = f1_score(y_test, y_pred )\n",
        "f2 = fbeta_score(y_test, y_pred, beta=2.0)\n",
        "\n",
        "model_results = pd.DataFrame([['Naive Byes', acc, prec, rec, f1, f2]],\n",
        "                columns = ['Model', 'Accuracy', 'Precision', 'Recall', 'F1 Score', 'F2 Score'])\n",
        "\n",
        "results = results.append(model_results, ignore_index = True)\n",
        "\n",
        "\n",
        "#Decision Tree\n",
        "\n",
        "#Подгонка Decision Tree к тренировочному набору:\n",
        "classifier = DecisionTreeClassifier(criterion = 'entropy', random_state = 0)\n",
        "classifier.fit(X_train, y_train)\n",
        "\n",
        "#Прогнозирование результатов набора тестов:\n",
        "y_pred = classifier.predict(X_test)\n",
        "\n",
        "#Оценивание результатов:\n",
        "acc = accuracy_score(y_test, y_pred )\n",
        "prec = precision_score(y_test, y_pred )\n",
        "rec = recall_score(y_test, y_pred )\n",
        "f1 = f1_score(y_test, y_pred )\n",
        "f2 = fbeta_score(y_test, y_pred, beta=2.0)\n",
        "\n",
        "model_results = pd.DataFrame([['Decision Tree', acc, prec, rec, f1, f2]],\n",
        "               columns = ['Model', 'Accuracy', 'Precision', 'Recall', 'F1 Score', 'F2 Score'])\n",
        "\n",
        "results = results.append(model_results, ignore_index = True)\n",
        "\n",
        "\n",
        "#Random Forest\n",
        "\n",
        "#Подгонка Random Forest к тренировочному набору:\n",
        "    \n",
        "classifier = RandomForestClassifier(n_estimators = 72, criterion = 'entropy', random_state = 0)\n",
        "classifier.fit(X_train, y_train)\n",
        "\n",
        "#Прогнозирование результатов набора тестов:\n",
        "y_pred = classifier.predict(X_test)\n",
        "\n",
        "#Оценивание результатов:\n",
        "from sklearn.metrics import confusion_matrix, accuracy_score, f1_score, precision_score, recall_score\n",
        "acc = accuracy_score(y_test, y_pred )\n",
        "prec = precision_score(y_test, y_pred )\n",
        "rec = recall_score(y_test, y_pred )\n",
        "f1 = f1_score(y_test, y_pred )\n",
        "f2 = fbeta_score(y_test, y_pred, beta=2.0)\n",
        "\n",
        "model_results = pd.DataFrame([['Random Forest', acc, prec, rec, f1, f2]],\n",
        "               columns = ['Model', 'Accuracy', 'Precision', 'Recall', 'F1 Score', 'F2 Score'])\n",
        "\n",
        "results = results.append(model_results, ignore_index = True)"
      ],
      "metadata": {
        "id": "iKtuuoOLWHdG",
        "colab": {
          "base_uri": "https://localhost:8080/"
        },
        "outputId": "8528121e-9a9d-4bdf-bf6c-ab0570146397"
      },
      "execution_count": 21,
      "outputs": [
        {
          "output_type": "stream",
          "name": "stderr",
          "text": [
            "/usr/local/lib/python3.7/dist-packages/sklearn/metrics/_classification.py:1318: UndefinedMetricWarning: Precision is ill-defined and being set to 0.0 due to no predicted samples. Use `zero_division` parameter to control this behavior.\n",
            "  _warn_prf(average, modifier, msg_start, len(result))\n",
            "/usr/local/lib/python3.7/dist-packages/sklearn/metrics/_classification.py:1318: UndefinedMetricWarning: Precision is ill-defined and being set to 0.0 due to no predicted samples. Use `zero_division` parameter to control this behavior.\n",
            "  _warn_prf(average, modifier, msg_start, len(result))\n",
            "/usr/local/lib/python3.7/dist-packages/sklearn/metrics/_classification.py:1318: UndefinedMetricWarning: Precision is ill-defined and being set to 0.0 due to no predicted samples. Use `zero_division` parameter to control this behavior.\n",
            "  _warn_prf(average, modifier, msg_start, len(result))\n"
          ]
        }
      ]
    },
    {
      "cell_type": "markdown",
      "source": [
        "Визуализируем результаты и сравним базовые алгоритмы:"
      ],
      "metadata": {
        "id": "uyo7KepKncuH"
      }
    },
    {
      "cell_type": "code",
      "source": [
        "# =======================================================================================================================\n",
        "# Сортировка результатов на основе правильной метрики классификации:\n",
        "# (Accuracy/ROC_AUC / Precision/Recall/F1/F2 scores)\n",
        "\n",
        "# Так как у нас классовый дисбаланс. Когда мы рассматриваем бизнес-задачи,\n",
        "# наши ложноотрицательные результаты будут дорогостоящими, и, следовательно, нам нужно следить за точностью, отзывом и F2, помимо точности.\n",
        "# =======================================================================================================================\n",
        "\n",
        "results = results.sort_values([\"Precision\", \"Recall\", \"F2 Score\"], ascending = False)\n",
        "results_library = results\n",
        "print (results)\n"
      ],
      "metadata": {
        "id": "TzH2boyEnaU0",
        "colab": {
          "base_uri": "https://localhost:8080/"
        },
        "outputId": "801ccb1b-7591-4206-80ea-c0af533eda88"
      },
      "execution_count": 22,
      "outputs": [
        {
          "output_type": "stream",
          "name": "stdout",
          "text": [
            "                  Model  Accuracy  Precision    Recall  F1 Score  F2 Score\n",
            "5         Decision Tree  0.876800   0.841954  0.423717  0.563733  0.470456\n",
            "6         Random Forest  0.876528   0.831933  0.429501  0.566524  0.475504\n",
            "2  K-Nearest Neighbours  0.868514   0.816794  0.386840  0.525025  0.432358\n",
            "3            Kernel SVM  0.850992   0.687664  0.378886  0.488578  0.416269\n",
            "0   Logistic Regression  0.812143   0.000000  0.000000  0.000000  0.000000\n",
            "1          SVM (Linear)  0.812143   0.000000  0.000000  0.000000  0.000000\n",
            "4            Naive Byes  0.812143   0.000000  0.000000  0.000000  0.000000\n"
          ]
        }
      ]
    },
    {
      "cell_type": "markdown",
      "source": [
        "#Окончательная настройка и выбор гиперпараметров"
      ],
      "metadata": {
        "id": "mWUImdK0oEF1"
      }
    },
    {
      "cell_type": "code",
      "source": [
        "#код для LogisticRegression: lr_classifier = LogisticRegression(random_state = 0, penalty = 'l2')\n",
        "#код для LogisticRegression: lr_classifier.fit(X_train, y_train)\n",
        "\n",
        "#код для DecisionTreeClassifier: lr_classifier = DecisionTreeClassifier(criterion = 'entropy', random_state = 0)\n",
        "#код для DecisionTreeClassifier: lr_classifier.fit(X_train, y_train)\n",
        "\n",
        "lr_classifier = RandomForestClassifier(n_estimators = 72, criterion = 'entropy', random_state = 0)\n",
        "lr_classifier.fit(X_train, y_train)\n",
        "\n",
        "#Предсказываем результаты тестового набора:\n",
        "y_pred = lr_classifier.predict(X_test)\n",
        "\n",
        "#Показатель вероятности\n",
        "y_pred_probs = lr_classifier.predict_proba(X_test)\n",
        "y_pred_probs  = y_pred_probs [:, 1] "
      ],
      "metadata": {
        "id": "06PP7kzPicVT"
      },
      "execution_count": 23,
      "outputs": []
    },
    {
      "cell_type": "code",
      "source": [
        "cm = confusion_matrix(y_test, y_pred) \n",
        "print (cm)"
      ],
      "metadata": {
        "id": "Lzfawo8adGKQ",
        "colab": {
          "base_uri": "https://localhost:8080/"
        },
        "outputId": "f914bc04-1485-4c09-dba4-7c3ce2150b1a"
      },
      "execution_count": 24,
      "outputs": [
        {
          "output_type": "stream",
          "name": "stdout",
          "text": [
            "[[5859  120]\n",
            " [ 789  594]]\n"
          ]
        }
      ]
    },
    {
      "cell_type": "code",
      "source": [
        "pd.crosstab(y_test,pd.Series(y_pred),rownames=['ACTUAL'],colnames=['PRED'])"
      ],
      "metadata": {
        "id": "YvKV10C6d1_N",
        "colab": {
          "base_uri": "https://localhost:8080/",
          "height": 143
        },
        "outputId": "e17e4c79-04a5-4874-da04-264d42892b3d"
      },
      "execution_count": 25,
      "outputs": [
        {
          "output_type": "execute_result",
          "data": {
            "text/html": [
              "\n",
              "  <div id=\"df-f97e2908-4597-46a5-94a5-460da53d8a99\">\n",
              "    <div class=\"colab-df-container\">\n",
              "      <div>\n",
              "<style scoped>\n",
              "    .dataframe tbody tr th:only-of-type {\n",
              "        vertical-align: middle;\n",
              "    }\n",
              "\n",
              "    .dataframe tbody tr th {\n",
              "        vertical-align: top;\n",
              "    }\n",
              "\n",
              "    .dataframe thead th {\n",
              "        text-align: right;\n",
              "    }\n",
              "</style>\n",
              "<table border=\"1\" class=\"dataframe\">\n",
              "  <thead>\n",
              "    <tr style=\"text-align: right;\">\n",
              "      <th>PRED</th>\n",
              "      <th>0</th>\n",
              "      <th>1</th>\n",
              "    </tr>\n",
              "    <tr>\n",
              "      <th>ACTUAL</th>\n",
              "      <th></th>\n",
              "      <th></th>\n",
              "    </tr>\n",
              "  </thead>\n",
              "  <tbody>\n",
              "    <tr>\n",
              "      <th>0</th>\n",
              "      <td>88</td>\n",
              "      <td>7</td>\n",
              "    </tr>\n",
              "    <tr>\n",
              "      <th>1</th>\n",
              "      <td>1256</td>\n",
              "      <td>127</td>\n",
              "    </tr>\n",
              "  </tbody>\n",
              "</table>\n",
              "</div>\n",
              "      <button class=\"colab-df-convert\" onclick=\"convertToInteractive('df-f97e2908-4597-46a5-94a5-460da53d8a99')\"\n",
              "              title=\"Convert this dataframe to an interactive table.\"\n",
              "              style=\"display:none;\">\n",
              "        \n",
              "  <svg xmlns=\"http://www.w3.org/2000/svg\" height=\"24px\"viewBox=\"0 0 24 24\"\n",
              "       width=\"24px\">\n",
              "    <path d=\"M0 0h24v24H0V0z\" fill=\"none\"/>\n",
              "    <path d=\"M18.56 5.44l.94 2.06.94-2.06 2.06-.94-2.06-.94-.94-2.06-.94 2.06-2.06.94zm-11 1L8.5 8.5l.94-2.06 2.06-.94-2.06-.94L8.5 2.5l-.94 2.06-2.06.94zm10 10l.94 2.06.94-2.06 2.06-.94-2.06-.94-.94-2.06-.94 2.06-2.06.94z\"/><path d=\"M17.41 7.96l-1.37-1.37c-.4-.4-.92-.59-1.43-.59-.52 0-1.04.2-1.43.59L10.3 9.45l-7.72 7.72c-.78.78-.78 2.05 0 2.83L4 21.41c.39.39.9.59 1.41.59.51 0 1.02-.2 1.41-.59l7.78-7.78 2.81-2.81c.8-.78.8-2.07 0-2.86zM5.41 20L4 18.59l7.72-7.72 1.47 1.35L5.41 20z\"/>\n",
              "  </svg>\n",
              "      </button>\n",
              "      \n",
              "  <style>\n",
              "    .colab-df-container {\n",
              "      display:flex;\n",
              "      flex-wrap:wrap;\n",
              "      gap: 12px;\n",
              "    }\n",
              "\n",
              "    .colab-df-convert {\n",
              "      background-color: #E8F0FE;\n",
              "      border: none;\n",
              "      border-radius: 50%;\n",
              "      cursor: pointer;\n",
              "      display: none;\n",
              "      fill: #1967D2;\n",
              "      height: 32px;\n",
              "      padding: 0 0 0 0;\n",
              "      width: 32px;\n",
              "    }\n",
              "\n",
              "    .colab-df-convert:hover {\n",
              "      background-color: #E2EBFA;\n",
              "      box-shadow: 0px 1px 2px rgba(60, 64, 67, 0.3), 0px 1px 3px 1px rgba(60, 64, 67, 0.15);\n",
              "      fill: #174EA6;\n",
              "    }\n",
              "\n",
              "    [theme=dark] .colab-df-convert {\n",
              "      background-color: #3B4455;\n",
              "      fill: #D2E3FC;\n",
              "    }\n",
              "\n",
              "    [theme=dark] .colab-df-convert:hover {\n",
              "      background-color: #434B5C;\n",
              "      box-shadow: 0px 1px 3px 1px rgba(0, 0, 0, 0.15);\n",
              "      filter: drop-shadow(0px 1px 2px rgba(0, 0, 0, 0.3));\n",
              "      fill: #FFFFFF;\n",
              "    }\n",
              "  </style>\n",
              "\n",
              "      <script>\n",
              "        const buttonEl =\n",
              "          document.querySelector('#df-f97e2908-4597-46a5-94a5-460da53d8a99 button.colab-df-convert');\n",
              "        buttonEl.style.display =\n",
              "          google.colab.kernel.accessAllowed ? 'block' : 'none';\n",
              "\n",
              "        async function convertToInteractive(key) {\n",
              "          const element = document.querySelector('#df-f97e2908-4597-46a5-94a5-460da53d8a99');\n",
              "          const dataTable =\n",
              "            await google.colab.kernel.invokeFunction('convertToInteractive',\n",
              "                                                     [key], {});\n",
              "          if (!dataTable) return;\n",
              "\n",
              "          const docLinkHtml = 'Like what you see? Visit the ' +\n",
              "            '<a target=\"_blank\" href=https://colab.research.google.com/notebooks/data_table.ipynb>data table notebook</a>'\n",
              "            + ' to learn more about interactive tables.';\n",
              "          element.innerHTML = '';\n",
              "          dataTable['output_type'] = 'display_data';\n",
              "          await google.colab.output.renderOutput(dataTable, element);\n",
              "          const docLink = document.createElement('div');\n",
              "          docLink.innerHTML = docLinkHtml;\n",
              "          element.appendChild(docLink);\n",
              "        }\n",
              "      </script>\n",
              "    </div>\n",
              "  </div>\n",
              "  "
            ],
            "text/plain": [
              "PRED       0    1\n",
              "ACTUAL           \n",
              "0         88    7\n",
              "1       1256  127"
            ]
          },
          "metadata": {},
          "execution_count": 25
        }
      ]
    },
    {
      "cell_type": "markdown",
      "source": [
        "Давайте взглянем на матрицу ошибок (confusion_matrix):"
      ],
      "metadata": {
        "id": "karcZWvboiGa"
      }
    },
    {
      "cell_type": "code",
      "source": [
        "cm = confusion_matrix(y_test, y_pred) \n",
        "df_cm = pd.DataFrame(cm, index = (0, 1), columns = (0, 1))\n",
        "plt.figure(figsize = (28,20))\n",
        "\n",
        "\n",
        "fig, ax = plt.subplots()\n",
        "sn.set(font_scale=1.4)\n",
        "sn.heatmap(df_cm, annot=True, fmt='g'#,cmap=\"YlGnBu\" \n",
        "           )\n",
        "class_names=[0,1]\n",
        "tick_marks = np.arange(len(class_names))\n",
        "plt.tight_layout()\n",
        "plt.title('Confusion matrix\\n', y=1.1)\n",
        "plt.xticks(tick_marks, class_names)\n",
        "plt.yticks(tick_marks, class_names)\n",
        "ax.xaxis.set_label_position(\"top\")\n",
        "plt.ylabel('Actual label\\n')\n",
        "plt.xlabel('Predicted label\\n')\n",
        "print(\"Test Data Accuracy: %0.4f\" % accuracy_score(y_test, y_pred))"
      ],
      "metadata": {
        "id": "Zo8Fim74d-bq",
        "colab": {
          "base_uri": "https://localhost:8080/",
          "height": 382
        },
        "outputId": "496ad1a6-cab5-477a-d725-a4a427d9e223"
      },
      "execution_count": 26,
      "outputs": [
        {
          "output_type": "stream",
          "name": "stdout",
          "text": [
            "Test Data Accuracy: 0.8765\n"
          ]
        },
        {
          "output_type": "display_data",
          "data": {
            "text/plain": [
              "<Figure size 2016x1440 with 0 Axes>"
            ]
          },
          "metadata": {}
        },
        {
          "output_type": "display_data",
          "data": {
            "image/png": "[encoded data removed]",
            "text/plain": [
              "<Figure size 432x288 with 2 Axes>"
            ]
          },
          "metadata": {
            "needs_background": "light"
          }
        }
      ]
    },
    {
      "cell_type": "markdown",
      "source": [
        "#Форматирование данных.\n",
        "Непредсказуемость и риск — близкие спутники любых прогностических моделей. Поэтому в реальном мире всегда рекомендуется строить оценку склонности помимо абсолютного прогнозируемого результата. Вместо того, чтобы просто получать двоичный оценочный целевой результат (0 или 1), каждый «идентификатор клиента» может получить дополнительный уровень оценки склонности, показывающий процент вероятности совершения целевого действия."
      ],
      "metadata": {
        "id": "mbyI_oAroz9z"
      }
    },
    {
      "cell_type": "code",
      "source": [
        "final_results = pd.concat([test_identity, y_test], axis = 1).dropna()\n",
        "\n",
        "final_results['predictions'] = y_pred \n",
        "final_results[\"propensity_to_convert(%)\"] = y_pred_probs \n",
        "final_results[\"propensity_to_convert(%)\"] = final_results[\"propensity_to_convert(%)\"]*100\n",
        "final_results[\"propensity_to_convert(%)\"] = final_results[\"propensity_to_convert(%)\"].round(2)\n",
        "final_results = final_results[['contract_id', 'blocked', 'predictions', 'propensity_to_convert(%)']]\n",
        "final_results ['Ranking'] = pd.qcut(final_results['propensity_to_convert(%)'].rank(method = 'first'),10,labels=range(10,0,-1))\n",
        "#print (final_results)"
      ],
      "metadata": {
        "id": "jsbWTsSBeHH4"
      },
      "execution_count": 27,
      "outputs": []
    },
    {
      "cell_type": "markdown",
      "source": [
        "#Сохраним обученную модель\n",
        "Наконец-то.. два дня, и, получилось! Давайте сохраним модель локально в файловом хранилище."
      ],
      "metadata": {
        "id": "P6WdObOlpC6S"
      }
    },
    {
      "cell_type": "code",
      "source": [
        "filename = 'final_model.model'\n",
        "i = [lr_classifier]\n",
        "joblib.dump(i,filename)"
      ],
      "metadata": {
        "id": "MxeC-MVxc5Qb",
        "colab": {
          "base_uri": "https://localhost:8080/"
        },
        "outputId": "7322c32a-1a5f-4f3a-ac08-4d688c084629"
      },
      "execution_count": 28,
      "outputs": [
        {
          "output_type": "execute_result",
          "data": {
            "text/plain": [
              "['final_model.model']"
            ]
          },
          "metadata": {},
          "execution_count": 28
        }
      ]
    },
    {
      "cell_type": "markdown",
      "source": [
        "#Сохраним другие материалы\n",
        "Некоторые другие материалы, возможно, пригодятся при предсказывании:"
      ],
      "metadata": {
        "id": "F5AobsMWQwuy"
      }
    },
    {
      "cell_type": "code",
      "source": [
        "final_results.to_csv(\"datas/final_results.csv\", encoding='utf-8')"
      ],
      "metadata": {
        "id": "FtasVzqrQ5bD"
      },
      "execution_count": 36,
      "outputs": []
    },
    {
      "cell_type": "markdown",
      "source": [
        "#Теперь предскажем\n",
        "Ранее мы оставляли таблицу datas_copy, и работали с ее копией. Теперь время снова вернуться к ней.\n",
        "Создадим ее копию datas_predictionstable, и будем работать с ней. Из datas_predictionstable мы получим сведения о клиенте, и по ним будем предсказывать поведение каждого конкретного пользователя для дальнейшей записи итогов предсказания в test.csv"
      ],
      "metadata": {
        "id": "X6f6Z8TbpTPg"
      }
    },
    {
      "cell_type": "markdown",
      "source": [
        "Сделаем копию таблицы datas_copy, назовем копию datas_predictionstable. Из datas_predictionstable удалим колонку blocked, чтобы не читарить (если на самом деле, то наша обученная модель не ожидает этот параметр, поэтому он не нужен нам здесь)."
      ],
      "metadata": {
        "id": "0eqc9nG4p9-a"
      }
    },
    {
      "cell_type": "code",
      "source": [
        "datas_predictionstable = datas_copy\n",
        "datas_predictionstable = datas_predictionstable.drop(columns=['blocked'])\n",
        "datas_predictionstable.to_csv(\"datas/datas_predictionstable.csv\", encoding='utf-8')\n",
        "datas_predictionstable"
      ],
      "metadata": {
        "id": "3u_jUuAGVHJV",
        "colab": {
          "base_uri": "https://localhost:8080/",
          "height": 423
        },
        "outputId": "099e4a51-77ee-4bfa-bda2-0f90938fe8ad"
      },
      "execution_count": 40,
      "outputs": [
        {
          "output_type": "execute_result",
          "data": {
            "text/html": [
              "\n",
              "  <div id=\"df-76955c74-c241-4a6b-b686-533502cd576d\">\n",
              "    <div class=\"colab-df-container\">\n",
              "      <div>\n",
              "<style scoped>\n",
              "    .dataframe tbody tr th:only-of-type {\n",
              "        vertical-align: middle;\n",
              "    }\n",
              "\n",
              "    .dataframe tbody tr th {\n",
              "        vertical-align: top;\n",
              "    }\n",
              "\n",
              "    .dataframe thead th {\n",
              "        text-align: right;\n",
              "    }\n",
              "</style>\n",
              "<table border=\"1\" class=\"dataframe\">\n",
              "  <thead>\n",
              "    <tr style=\"text-align: right;\">\n",
              "      <th></th>\n",
              "      <th>event_type</th>\n",
              "      <th>name</th>\n",
              "      <th>day_or_month_contract</th>\n",
              "    </tr>\n",
              "  </thead>\n",
              "  <tbody>\n",
              "    <tr>\n",
              "      <th>0</th>\n",
              "      <td>0</td>\n",
              "      <td>0</td>\n",
              "      <td>0</td>\n",
              "    </tr>\n",
              "    <tr>\n",
              "      <th>1</th>\n",
              "      <td>0</td>\n",
              "      <td>0</td>\n",
              "      <td>0</td>\n",
              "    </tr>\n",
              "    <tr>\n",
              "      <th>2</th>\n",
              "      <td>0</td>\n",
              "      <td>0</td>\n",
              "      <td>0</td>\n",
              "    </tr>\n",
              "    <tr>\n",
              "      <th>3</th>\n",
              "      <td>1</td>\n",
              "      <td>0</td>\n",
              "      <td>0</td>\n",
              "    </tr>\n",
              "    <tr>\n",
              "      <th>4</th>\n",
              "      <td>1</td>\n",
              "      <td>0</td>\n",
              "      <td>0</td>\n",
              "    </tr>\n",
              "    <tr>\n",
              "      <th>...</th>\n",
              "      <td>...</td>\n",
              "      <td>...</td>\n",
              "      <td>...</td>\n",
              "    </tr>\n",
              "    <tr>\n",
              "      <th>36801</th>\n",
              "      <td>52</td>\n",
              "      <td>0</td>\n",
              "      <td>0</td>\n",
              "    </tr>\n",
              "    <tr>\n",
              "      <th>36802</th>\n",
              "      <td>52</td>\n",
              "      <td>12</td>\n",
              "      <td>0</td>\n",
              "    </tr>\n",
              "    <tr>\n",
              "      <th>36803</th>\n",
              "      <td>52</td>\n",
              "      <td>3</td>\n",
              "      <td>0</td>\n",
              "    </tr>\n",
              "    <tr>\n",
              "      <th>36804</th>\n",
              "      <td>52</td>\n",
              "      <td>0</td>\n",
              "      <td>0</td>\n",
              "    </tr>\n",
              "    <tr>\n",
              "      <th>36805</th>\n",
              "      <td>52</td>\n",
              "      <td>0</td>\n",
              "      <td>0</td>\n",
              "    </tr>\n",
              "  </tbody>\n",
              "</table>\n",
              "<p>36806 rows × 3 columns</p>\n",
              "</div>\n",
              "      <button class=\"colab-df-convert\" onclick=\"convertToInteractive('df-76955c74-c241-4a6b-b686-533502cd576d')\"\n",
              "              title=\"Convert this dataframe to an interactive table.\"\n",
              "              style=\"display:none;\">\n",
              "        \n",
              "  <svg xmlns=\"http://www.w3.org/2000/svg\" height=\"24px\"viewBox=\"0 0 24 24\"\n",
              "       width=\"24px\">\n",
              "    <path d=\"M0 0h24v24H0V0z\" fill=\"none\"/>\n",
              "    <path d=\"M18.56 5.44l.94 2.06.94-2.06 2.06-.94-2.06-.94-.94-2.06-.94 2.06-2.06.94zm-11 1L8.5 8.5l.94-2.06 2.06-.94-2.06-.94L8.5 2.5l-.94 2.06-2.06.94zm10 10l.94 2.06.94-2.06 2.06-.94-2.06-.94-.94-2.06-.94 2.06-2.06.94z\"/><path d=\"M17.41 7.96l-1.37-1.37c-.4-.4-.92-.59-1.43-.59-.52 0-1.04.2-1.43.59L10.3 9.45l-7.72 7.72c-.78.78-.78 2.05 0 2.83L4 21.41c.39.39.9.59 1.41.59.51 0 1.02-.2 1.41-.59l7.78-7.78 2.81-2.81c.8-.78.8-2.07 0-2.86zM5.41 20L4 18.59l7.72-7.72 1.47 1.35L5.41 20z\"/>\n",
              "  </svg>\n",
              "      </button>\n",
              "      \n",
              "  <style>\n",
              "    .colab-df-container {\n",
              "      display:flex;\n",
              "      flex-wrap:wrap;\n",
              "      gap: 12px;\n",
              "    }\n",
              "\n",
              "    .colab-df-convert {\n",
              "      background-color: #E8F0FE;\n",
              "      border: none;\n",
              "      border-radius: 50%;\n",
              "      cursor: pointer;\n",
              "      display: none;\n",
              "      fill: #1967D2;\n",
              "      height: 32px;\n",
              "      padding: 0 0 0 0;\n",
              "      width: 32px;\n",
              "    }\n",
              "\n",
              "    .colab-df-convert:hover {\n",
              "      background-color: #E2EBFA;\n",
              "      box-shadow: 0px 1px 2px rgba(60, 64, 67, 0.3), 0px 1px 3px 1px rgba(60, 64, 67, 0.15);\n",
              "      fill: #174EA6;\n",
              "    }\n",
              "\n",
              "    [theme=dark] .colab-df-convert {\n",
              "      background-color: #3B4455;\n",
              "      fill: #D2E3FC;\n",
              "    }\n",
              "\n",
              "    [theme=dark] .colab-df-convert:hover {\n",
              "      background-color: #434B5C;\n",
              "      box-shadow: 0px 1px 3px 1px rgba(0, 0, 0, 0.15);\n",
              "      filter: drop-shadow(0px 1px 2px rgba(0, 0, 0, 0.3));\n",
              "      fill: #FFFFFF;\n",
              "    }\n",
              "  </style>\n",
              "\n",
              "      <script>\n",
              "        const buttonEl =\n",
              "          document.querySelector('#df-76955c74-c241-4a6b-b686-533502cd576d button.colab-df-convert');\n",
              "        buttonEl.style.display =\n",
              "          google.colab.kernel.accessAllowed ? 'block' : 'none';\n",
              "\n",
              "        async function convertToInteractive(key) {\n",
              "          const element = document.querySelector('#df-76955c74-c241-4a6b-b686-533502cd576d');\n",
              "          const dataTable =\n",
              "            await google.colab.kernel.invokeFunction('convertToInteractive',\n",
              "                                                     [key], {});\n",
              "          if (!dataTable) return;\n",
              "\n",
              "          const docLinkHtml = 'Like what you see? Visit the ' +\n",
              "            '<a target=\"_blank\" href=https://colab.research.google.com/notebooks/data_table.ipynb>data table notebook</a>'\n",
              "            + ' to learn more about interactive tables.';\n",
              "          element.innerHTML = '';\n",
              "          dataTable['output_type'] = 'display_data';\n",
              "          await google.colab.output.renderOutput(dataTable, element);\n",
              "          const docLink = document.createElement('div');\n",
              "          docLink.innerHTML = docLinkHtml;\n",
              "          element.appendChild(docLink);\n",
              "        }\n",
              "      </script>\n",
              "    </div>\n",
              "  </div>\n",
              "  "
            ],
            "text/plain": [
              "       event_type  name  day_or_month_contract\n",
              "0               0     0                      0\n",
              "1               0     0                      0\n",
              "2               0     0                      0\n",
              "3               1     0                      0\n",
              "4               1     0                      0\n",
              "...           ...   ...                    ...\n",
              "36801          52     0                      0\n",
              "36802          52    12                      0\n",
              "36803          52     3                      0\n",
              "36804          52     0                      0\n",
              "36805          52     0                      0\n",
              "\n",
              "[36806 rows x 3 columns]"
            ]
          },
          "metadata": {},
          "execution_count": 40
        }
      ]
    },
    {
      "cell_type": "markdown",
      "source": [
        "Вывыдем предсказания, чтобы убедиться, что здесь у нас все.. хотябы, работает:"
      ],
      "metadata": {
        "id": "3XDUqa9bp7F4"
      }
    },
    {
      "cell_type": "code",
      "source": [
        "yPred = lr_classifier.predict(datas_predictionstable)\n",
        "print(yPred)"
      ],
      "metadata": {
        "id": "jQt4N2J7U5vd",
        "colab": {
          "base_uri": "https://localhost:8080/"
        },
        "outputId": "8cb1ca26-484c-493f-d28b-7e75bc2e9b01"
      },
      "execution_count": 30,
      "outputs": [
        {
          "output_type": "stream",
          "name": "stdout",
          "text": [
            "[1 1 1 ... 0 0 0]\n"
          ]
        }
      ]
    },
    {
      "cell_type": "markdown",
      "source": [
        "Теперь получим файл test.csv, куда нам по заданию хакатона и нужно вписать, уйдет клиент, или нет:"
      ],
      "metadata": {
        "id": "FcUKUHYbqn_u"
      }
    },
    {
      "cell_type": "code",
      "source": [
        "test0=pd.read_csv('datas/test.csv')\n",
        "test0"
      ],
      "metadata": {
        "id": "r1qwkIAOMNzI",
        "colab": {
          "base_uri": "https://localhost:8080/",
          "height": 423
        },
        "outputId": "c0ac58df-f037-4764-c725-e50b2bd1a4f4"
      },
      "execution_count": 31,
      "outputs": [
        {
          "output_type": "execute_result",
          "data": {
            "text/html": [
              "\n",
              "  <div id=\"df-d25d51ac-c7b7-4470-a22d-55cd25cfd17a\">\n",
              "    <div class=\"colab-df-container\">\n",
              "      <div>\n",
              "<style scoped>\n",
              "    .dataframe tbody tr th:only-of-type {\n",
              "        vertical-align: middle;\n",
              "    }\n",
              "\n",
              "    .dataframe tbody tr th {\n",
              "        vertical-align: top;\n",
              "    }\n",
              "\n",
              "    .dataframe thead th {\n",
              "        text-align: right;\n",
              "    }\n",
              "</style>\n",
              "<table border=\"1\" class=\"dataframe\">\n",
              "  <thead>\n",
              "    <tr style=\"text-align: right;\">\n",
              "      <th></th>\n",
              "      <th>contract_id</th>\n",
              "      <th>blocked</th>\n",
              "    </tr>\n",
              "  </thead>\n",
              "  <tbody>\n",
              "    <tr>\n",
              "      <th>0</th>\n",
              "      <td>1034</td>\n",
              "      <td>NaN</td>\n",
              "    </tr>\n",
              "    <tr>\n",
              "      <th>1</th>\n",
              "      <td>1074</td>\n",
              "      <td>NaN</td>\n",
              "    </tr>\n",
              "    <tr>\n",
              "      <th>2</th>\n",
              "      <td>1145</td>\n",
              "      <td>NaN</td>\n",
              "    </tr>\n",
              "    <tr>\n",
              "      <th>3</th>\n",
              "      <td>1261</td>\n",
              "      <td>NaN</td>\n",
              "    </tr>\n",
              "    <tr>\n",
              "      <th>4</th>\n",
              "      <td>1315</td>\n",
              "      <td>NaN</td>\n",
              "    </tr>\n",
              "    <tr>\n",
              "      <th>...</th>\n",
              "      <td>...</td>\n",
              "      <td>...</td>\n",
              "    </tr>\n",
              "    <tr>\n",
              "      <th>296</th>\n",
              "      <td>274468</td>\n",
              "      <td>NaN</td>\n",
              "    </tr>\n",
              "    <tr>\n",
              "      <th>297</th>\n",
              "      <td>274482</td>\n",
              "      <td>NaN</td>\n",
              "    </tr>\n",
              "    <tr>\n",
              "      <th>298</th>\n",
              "      <td>274486</td>\n",
              "      <td>NaN</td>\n",
              "    </tr>\n",
              "    <tr>\n",
              "      <th>299</th>\n",
              "      <td>274540</td>\n",
              "      <td>NaN</td>\n",
              "    </tr>\n",
              "    <tr>\n",
              "      <th>300</th>\n",
              "      <td>274773</td>\n",
              "      <td>NaN</td>\n",
              "    </tr>\n",
              "  </tbody>\n",
              "</table>\n",
              "<p>301 rows × 2 columns</p>\n",
              "</div>\n",
              "      <button class=\"colab-df-convert\" onclick=\"convertToInteractive('df-d25d51ac-c7b7-4470-a22d-55cd25cfd17a')\"\n",
              "              title=\"Convert this dataframe to an interactive table.\"\n",
              "              style=\"display:none;\">\n",
              "        \n",
              "  <svg xmlns=\"http://www.w3.org/2000/svg\" height=\"24px\"viewBox=\"0 0 24 24\"\n",
              "       width=\"24px\">\n",
              "    <path d=\"M0 0h24v24H0V0z\" fill=\"none\"/>\n",
              "    <path d=\"M18.56 5.44l.94 2.06.94-2.06 2.06-.94-2.06-.94-.94-2.06-.94 2.06-2.06.94zm-11 1L8.5 8.5l.94-2.06 2.06-.94-2.06-.94L8.5 2.5l-.94 2.06-2.06.94zm10 10l.94 2.06.94-2.06 2.06-.94-2.06-.94-.94-2.06-.94 2.06-2.06.94z\"/><path d=\"M17.41 7.96l-1.37-1.37c-.4-.4-.92-.59-1.43-.59-.52 0-1.04.2-1.43.59L10.3 9.45l-7.72 7.72c-.78.78-.78 2.05 0 2.83L4 21.41c.39.39.9.59 1.41.59.51 0 1.02-.2 1.41-.59l7.78-7.78 2.81-2.81c.8-.78.8-2.07 0-2.86zM5.41 20L4 18.59l7.72-7.72 1.47 1.35L5.41 20z\"/>\n",
              "  </svg>\n",
              "      </button>\n",
              "      \n",
              "  <style>\n",
              "    .colab-df-container {\n",
              "      display:flex;\n",
              "      flex-wrap:wrap;\n",
              "      gap: 12px;\n",
              "    }\n",
              "\n",
              "    .colab-df-convert {\n",
              "      background-color: #E8F0FE;\n",
              "      border: none;\n",
              "      border-radius: 50%;\n",
              "      cursor: pointer;\n",
              "      display: none;\n",
              "      fill: #1967D2;\n",
              "      height: 32px;\n",
              "      padding: 0 0 0 0;\n",
              "      width: 32px;\n",
              "    }\n",
              "\n",
              "    .colab-df-convert:hover {\n",
              "      background-color: #E2EBFA;\n",
              "      box-shadow: 0px 1px 2px rgba(60, 64, 67, 0.3), 0px 1px 3px 1px rgba(60, 64, 67, 0.15);\n",
              "      fill: #174EA6;\n",
              "    }\n",
              "\n",
              "    [theme=dark] .colab-df-convert {\n",
              "      background-color: #3B4455;\n",
              "      fill: #D2E3FC;\n",
              "    }\n",
              "\n",
              "    [theme=dark] .colab-df-convert:hover {\n",
              "      background-color: #434B5C;\n",
              "      box-shadow: 0px 1px 3px 1px rgba(0, 0, 0, 0.15);\n",
              "      filter: drop-shadow(0px 1px 2px rgba(0, 0, 0, 0.3));\n",
              "      fill: #FFFFFF;\n",
              "    }\n",
              "  </style>\n",
              "\n",
              "      <script>\n",
              "        const buttonEl =\n",
              "          document.querySelector('#df-d25d51ac-c7b7-4470-a22d-55cd25cfd17a button.colab-df-convert');\n",
              "        buttonEl.style.display =\n",
              "          google.colab.kernel.accessAllowed ? 'block' : 'none';\n",
              "\n",
              "        async function convertToInteractive(key) {\n",
              "          const element = document.querySelector('#df-d25d51ac-c7b7-4470-a22d-55cd25cfd17a');\n",
              "          const dataTable =\n",
              "            await google.colab.kernel.invokeFunction('convertToInteractive',\n",
              "                                                     [key], {});\n",
              "          if (!dataTable) return;\n",
              "\n",
              "          const docLinkHtml = 'Like what you see? Visit the ' +\n",
              "            '<a target=\"_blank\" href=https://colab.research.google.com/notebooks/data_table.ipynb>data table notebook</a>'\n",
              "            + ' to learn more about interactive tables.';\n",
              "          element.innerHTML = '';\n",
              "          dataTable['output_type'] = 'display_data';\n",
              "          await google.colab.output.renderOutput(dataTable, element);\n",
              "          const docLink = document.createElement('div');\n",
              "          docLink.innerHTML = docLinkHtml;\n",
              "          element.appendChild(docLink);\n",
              "        }\n",
              "      </script>\n",
              "    </div>\n",
              "  </div>\n",
              "  "
            ],
            "text/plain": [
              "     contract_id  blocked\n",
              "0           1034      NaN\n",
              "1           1074      NaN\n",
              "2           1145      NaN\n",
              "3           1261      NaN\n",
              "4           1315      NaN\n",
              "..           ...      ...\n",
              "296       274468      NaN\n",
              "297       274482      NaN\n",
              "298       274486      NaN\n",
              "299       274540      NaN\n",
              "300       274773      NaN\n",
              "\n",
              "[301 rows x 2 columns]"
            ]
          },
          "metadata": {},
          "execution_count": 31
        }
      ]
    },
    {
      "cell_type": "markdown",
      "source": [
        "По тестовому выводу видим, что все загрузилось. В поле contract_id у нас представлены номера договоров, а в поле blocked - пустые значения, их мы и заполним предсказаниями:"
      ],
      "metadata": {
        "id": "aPARZUaTq0Y6"
      }
    },
    {
      "cell_type": "code",
      "source": [
        "count_row = test0.shape[0]\n",
        "pd.options.mode.chained_assignment\n",
        "for x in range(test0.shape[0]):\n",
        "  lookfor = test0.iloc[x].contract_id\n",
        "  prediction = final_results.loc[final_results['contract_id'] == int(lookfor)]\n",
        "  test0.at[x, 'blocked'] = int(yPred[x])\n",
        "test0.blocked = test0.blocked.astype(int)\n",
        "test0"
      ],
      "metadata": {
        "id": "iGqH66SiMY9A",
        "colab": {
          "base_uri": "https://localhost:8080/",
          "height": 423
        },
        "outputId": "536f6d0f-eea3-4d67-d59e-2199658f875c"
      },
      "execution_count": 32,
      "outputs": [
        {
          "output_type": "execute_result",
          "data": {
            "text/html": [
              "\n",
              "  <div id=\"df-4fd12e97-3a25-4924-b993-ffbb4ccefef5\">\n",
              "    <div class=\"colab-df-container\">\n",
              "      <div>\n",
              "<style scoped>\n",
              "    .dataframe tbody tr th:only-of-type {\n",
              "        vertical-align: middle;\n",
              "    }\n",
              "\n",
              "    .dataframe tbody tr th {\n",
              "        vertical-align: top;\n",
              "    }\n",
              "\n",
              "    .dataframe thead th {\n",
              "        text-align: right;\n",
              "    }\n",
              "</style>\n",
              "<table border=\"1\" class=\"dataframe\">\n",
              "  <thead>\n",
              "    <tr style=\"text-align: right;\">\n",
              "      <th></th>\n",
              "      <th>contract_id</th>\n",
              "      <th>blocked</th>\n",
              "    </tr>\n",
              "  </thead>\n",
              "  <tbody>\n",
              "    <tr>\n",
              "      <th>0</th>\n",
              "      <td>1034</td>\n",
              "      <td>1</td>\n",
              "    </tr>\n",
              "    <tr>\n",
              "      <th>1</th>\n",
              "      <td>1074</td>\n",
              "      <td>1</td>\n",
              "    </tr>\n",
              "    <tr>\n",
              "      <th>2</th>\n",
              "      <td>1145</td>\n",
              "      <td>1</td>\n",
              "    </tr>\n",
              "    <tr>\n",
              "      <th>3</th>\n",
              "      <td>1261</td>\n",
              "      <td>1</td>\n",
              "    </tr>\n",
              "    <tr>\n",
              "      <th>4</th>\n",
              "      <td>1315</td>\n",
              "      <td>1</td>\n",
              "    </tr>\n",
              "    <tr>\n",
              "      <th>...</th>\n",
              "      <td>...</td>\n",
              "      <td>...</td>\n",
              "    </tr>\n",
              "    <tr>\n",
              "      <th>296</th>\n",
              "      <td>274468</td>\n",
              "      <td>0</td>\n",
              "    </tr>\n",
              "    <tr>\n",
              "      <th>297</th>\n",
              "      <td>274482</td>\n",
              "      <td>0</td>\n",
              "    </tr>\n",
              "    <tr>\n",
              "      <th>298</th>\n",
              "      <td>274486</td>\n",
              "      <td>0</td>\n",
              "    </tr>\n",
              "    <tr>\n",
              "      <th>299</th>\n",
              "      <td>274540</td>\n",
              "      <td>0</td>\n",
              "    </tr>\n",
              "    <tr>\n",
              "      <th>300</th>\n",
              "      <td>274773</td>\n",
              "      <td>0</td>\n",
              "    </tr>\n",
              "  </tbody>\n",
              "</table>\n",
              "<p>301 rows × 2 columns</p>\n",
              "</div>\n",
              "      <button class=\"colab-df-convert\" onclick=\"convertToInteractive('df-4fd12e97-3a25-4924-b993-ffbb4ccefef5')\"\n",
              "              title=\"Convert this dataframe to an interactive table.\"\n",
              "              style=\"display:none;\">\n",
              "        \n",
              "  <svg xmlns=\"http://www.w3.org/2000/svg\" height=\"24px\"viewBox=\"0 0 24 24\"\n",
              "       width=\"24px\">\n",
              "    <path d=\"M0 0h24v24H0V0z\" fill=\"none\"/>\n",
              "    <path d=\"M18.56 5.44l.94 2.06.94-2.06 2.06-.94-2.06-.94-.94-2.06-.94 2.06-2.06.94zm-11 1L8.5 8.5l.94-2.06 2.06-.94-2.06-.94L8.5 2.5l-.94 2.06-2.06.94zm10 10l.94 2.06.94-2.06 2.06-.94-2.06-.94-.94-2.06-.94 2.06-2.06.94z\"/><path d=\"M17.41 7.96l-1.37-1.37c-.4-.4-.92-.59-1.43-.59-.52 0-1.04.2-1.43.59L10.3 9.45l-7.72 7.72c-.78.78-.78 2.05 0 2.83L4 21.41c.39.39.9.59 1.41.59.51 0 1.02-.2 1.41-.59l7.78-7.78 2.81-2.81c.8-.78.8-2.07 0-2.86zM5.41 20L4 18.59l7.72-7.72 1.47 1.35L5.41 20z\"/>\n",
              "  </svg>\n",
              "      </button>\n",
              "      \n",
              "  <style>\n",
              "    .colab-df-container {\n",
              "      display:flex;\n",
              "      flex-wrap:wrap;\n",
              "      gap: 12px;\n",
              "    }\n",
              "\n",
              "    .colab-df-convert {\n",
              "      background-color: #E8F0FE;\n",
              "      border: none;\n",
              "      border-radius: 50%;\n",
              "      cursor: pointer;\n",
              "      display: none;\n",
              "      fill: #1967D2;\n",
              "      height: 32px;\n",
              "      padding: 0 0 0 0;\n",
              "      width: 32px;\n",
              "    }\n",
              "\n",
              "    .colab-df-convert:hover {\n",
              "      background-color: #E2EBFA;\n",
              "      box-shadow: 0px 1px 2px rgba(60, 64, 67, 0.3), 0px 1px 3px 1px rgba(60, 64, 67, 0.15);\n",
              "      fill: #174EA6;\n",
              "    }\n",
              "\n",
              "    [theme=dark] .colab-df-convert {\n",
              "      background-color: #3B4455;\n",
              "      fill: #D2E3FC;\n",
              "    }\n",
              "\n",
              "    [theme=dark] .colab-df-convert:hover {\n",
              "      background-color: #434B5C;\n",
              "      box-shadow: 0px 1px 3px 1px rgba(0, 0, 0, 0.15);\n",
              "      filter: drop-shadow(0px 1px 2px rgba(0, 0, 0, 0.3));\n",
              "      fill: #FFFFFF;\n",
              "    }\n",
              "  </style>\n",
              "\n",
              "      <script>\n",
              "        const buttonEl =\n",
              "          document.querySelector('#df-4fd12e97-3a25-4924-b993-ffbb4ccefef5 button.colab-df-convert');\n",
              "        buttonEl.style.display =\n",
              "          google.colab.kernel.accessAllowed ? 'block' : 'none';\n",
              "\n",
              "        async function convertToInteractive(key) {\n",
              "          const element = document.querySelector('#df-4fd12e97-3a25-4924-b993-ffbb4ccefef5');\n",
              "          const dataTable =\n",
              "            await google.colab.kernel.invokeFunction('convertToInteractive',\n",
              "                                                     [key], {});\n",
              "          if (!dataTable) return;\n",
              "\n",
              "          const docLinkHtml = 'Like what you see? Visit the ' +\n",
              "            '<a target=\"_blank\" href=https://colab.research.google.com/notebooks/data_table.ipynb>data table notebook</a>'\n",
              "            + ' to learn more about interactive tables.';\n",
              "          element.innerHTML = '';\n",
              "          dataTable['output_type'] = 'display_data';\n",
              "          await google.colab.output.renderOutput(dataTable, element);\n",
              "          const docLink = document.createElement('div');\n",
              "          docLink.innerHTML = docLinkHtml;\n",
              "          element.appendChild(docLink);\n",
              "        }\n",
              "      </script>\n",
              "    </div>\n",
              "  </div>\n",
              "  "
            ],
            "text/plain": [
              "     contract_id  blocked\n",
              "0           1034        1\n",
              "1           1074        1\n",
              "2           1145        1\n",
              "3           1261        1\n",
              "4           1315        1\n",
              "..           ...      ...\n",
              "296       274468        0\n",
              "297       274482        0\n",
              "298       274486        0\n",
              "299       274540        0\n",
              "300       274773        0\n",
              "\n",
              "[301 rows x 2 columns]"
            ]
          },
          "metadata": {},
          "execution_count": 32
        }
      ]
    },
    {
      "cell_type": "markdown",
      "source": [
        "Теперь сохраним измененный test.csv туда же, откуда мы его взяли (то есть, попросту перезапишем):"
      ],
      "metadata": {
        "id": "-g5urELTrJ4r"
      }
    },
    {
      "cell_type": "code",
      "source": [
        "test0.to_csv(\"datas/test.csv\", encoding='utf-8')"
      ],
      "metadata": {
        "id": "b5tkhhE6Xe4g"
      },
      "execution_count": 33,
      "outputs": []
    },
    {
      "cell_type": "markdown",
      "source": [
        "Точность нашей модели согласно алгоритму обучения, который мы выбрали:"
      ],
      "metadata": {
        "id": "5vFdcHFKrVxz"
      }
    },
    {
      "cell_type": "code",
      "source": [
        "bold = \"\\033[1m\"\n",
        "results_library.loc[6]"
      ],
      "metadata": {
        "id": "o_8Ri6R8WPwj",
        "colab": {
          "base_uri": "https://localhost:8080/"
        },
        "outputId": "688b8fe7-5a1f-4f0d-ade4-1508c66ea596"
      },
      "execution_count": 57,
      "outputs": [
        {
          "output_type": "execute_result",
          "data": {
            "text/plain": [
              "Model        Random Forest\n",
              "Accuracy          0.876528\n",
              "Precision         0.831933\n",
              "Recall            0.429501\n",
              "F1 Score          0.566524\n",
              "F2 Score          0.475504\n",
              "Name: 6, dtype: object"
            ]
          },
          "metadata": {},
          "execution_count": 57
        }
      ]
    },
    {
      "cell_type": "code",
      "source": [
        "#Оценим модель с помощью графика ROC\n",
        "\n",
        "from sklearn.metrics import precision_score, \\\n",
        "    recall_score, confusion_matrix, classification_report, \\\n",
        "    accuracy_score, f1_score\n",
        "\n",
        "classifier.fit(X_train, y_train) \n",
        "probs = classifier.predict_proba(X_test) \n",
        "probs = probs[:, 1] \n",
        "classifier_f1_score = f1_score(y_test, y_pred )\n",
        "\n",
        "rf_fpr, rf_tpr, rf_thresholds = roc_curve(y_test, classifier.predict_proba(X_test)[:,1])\n",
        "plt.figure(figsize=(14, 6))\n",
        "\n",
        "#Построим логистическую регрессию ROC\n",
        "plt.plot(rf_fpr, rf_tpr, label='Logistic Regression, F1 score: (area = %0.1f)' % classifier_f1_score)\n",
        "\n",
        "#Построим Base Rate ROC\n",
        "plt.plot([0,1], [0,1],label='Base Rate' 'k--')\n",
        "\n",
        "plt.xlim([0.0, 1.0])\n",
        "plt.ylim([0.0, 1.05])\n",
        "\n",
        "plt.ylabel('True Positive Rate \\n',horizontalalignment=\"center\",fontstyle = \"normal\", fontsize = \"medium\", fontfamily = \"sans-serif\")\n",
        "plt.xlabel('\\nFalse Positive Rate \\n',horizontalalignment=\"center\",fontstyle = \"normal\", fontsize = \"medium\", fontfamily = \"sans-serif\")\n",
        "plt.title('F1 Graph \\n',horizontalalignment=\"center\", fontstyle = \"normal\", fontsize = \"22\", fontfamily = \"sans-serif\")\n",
        "plt.legend(loc=\"lower right\", fontsize = \"medium\")\n",
        "plt.xticks(rotation=0, horizontalalignment=\"center\")\n",
        "plt.yticks(rotation=0, horizontalalignment=\"right\")\n",
        "\n",
        "print('\\n\\nТочность по метрике F1 SCORE: %0.1f\\n\\n' % classifier_f1_score)"
      ],
      "metadata": {
        "id": "4iY4DW_JrrPF",
        "colab": {
          "base_uri": "https://localhost:8080/",
          "height": 577
        },
        "outputId": "ae6b2e27-3ab4-479f-afb1-47423d1aaa49"
      },
      "execution_count": 58,
      "outputs": [
        {
          "output_type": "stream",
          "name": "stdout",
          "text": [
            "\n",
            "\n",
            "Точность по метрике F1 SCORE: 0.6\n",
            "\n",
            "\n"
          ]
        },
        {
          "output_type": "display_data",
          "data": {
            "image/png": "[encoded data removed]",
            "text/plain": [
              "<Figure size 1008x432 with 1 Axes>"
            ]
          },
          "metadata": {}
        }
      ]
    },
    {
      "cell_type": "markdown",
      "source": [
        "Сохраним модель для скрипта, который уже будет предсказывать, чтобы каждый раз не приходилось обучать модель сначала:"
      ],
      "metadata": {
        "id": "t0Z86TDtXLUx"
      }
    },
    {
      "cell_type": "code",
      "source": [
        "import pickle\n",
        "\n",
        "with open(\"model_complete.pkl\", \"wb\") as f:\n",
        "    pickle.dump(lr_classifier, f)"
      ],
      "metadata": {
        "id": "uFQmgb2PTYB9"
      },
      "execution_count": 43,
      "outputs": []
    }
  ]
}